{
  "nbformat": 4,
  "nbformat_minor": 0,
  "metadata": {
    "colab": {
      "name": "us-accidents-analysis.ipynb",
      "provenance": []
    },
    "kernelspec": {
      "display_name": "Python 3 (ipykernel)",
      "language": "python",
      "name": "python3"
    },
    "language_info": {
      "codemirror_mode": {
        "name": "ipython",
        "version": 3
      },
      "file_extension": ".py",
      "mimetype": "text/x-python",
      "name": "python",
      "nbconvert_exporter": "python",
      "pygments_lexer": "ipython3",
      "version": "3.9.6"
    }
  },
  "cells": [
    {
      "cell_type": "code",
      "metadata": {
        "id": "XMMVGbheO4A2"
      },
      "source": [
        "# Jovian Commit Essentials\n",
        "# Please retain and execute this cell without modifying the contents for `jovian.commit` to work\n",
        "!pip install jovian --upgrade -q\n",
        "import jovian\n",
        "jovian.set_project('us-accidents-analysis')\n",
        "jovian.set_colab_id('1rxQrq785OVxMiWNQeGf0DtRBA044lVus')"
      ],
      "execution_count": 111,
      "outputs": []
    },
    {
      "cell_type": "markdown",
      "metadata": {
        "id": "vmpOujkjMSUm"
      },
      "source": [
        "# us-accidents-analysis\n",
        "\n",
        "Use the \"Run\" button to execute the code."
      ]
    },
    {
      "cell_type": "code",
      "metadata": {
        "id": "a1wNGNBWMSUn"
      },
      "source": [
        "!pip install jovian --upgrade --quiet"
      ],
      "execution_count": 112,
      "outputs": []
    },
    {
      "cell_type": "code",
      "metadata": {
        "id": "jrRRaUz1MSUo"
      },
      "source": [
        "import jovian"
      ],
      "execution_count": 113,
      "outputs": []
    },
    {
      "cell_type": "code",
      "metadata": {
        "colab": {
          "base_uri": "https://localhost:8080/",
          "height": 87
        },
        "id": "oS8yGCZwMSUo",
        "outputId": "36607a55-64bc-4226-f70e-671344796aa0"
      },
      "source": [
        "# Execute this to save new versions of the notebook\n",
        "jovian.commit(project=\"us-accidents-analysis\")"
      ],
      "execution_count": 115,
      "outputs": [
        {
          "output_type": "stream",
          "name": "stdout",
          "text": [
            "[jovian] Detected Colab notebook...\u001b[0m\n",
            "[jovian] Uploading colab notebook to Jovian...\u001b[0m\n",
            "Committed successfully! https://jovian.ai/vickbishnoi/us-accidents-analysis\n"
          ]
        },
        {
          "output_type": "execute_result",
          "data": {
            "application/vnd.google.colaboratory.intrinsic+json": {
              "type": "string"
            },
            "text/plain": [
              "'https://jovian.ai/vickbishnoi/us-accidents-analysis'"
            ]
          },
          "metadata": {},
          "execution_count": 115
        }
      ]
    },
    {
      "cell_type": "markdown",
      "metadata": {
        "id": "BrmHbfkGNO5o"
      },
      "source": [
        "# US Accidents Exploratory Data Analysis\n",
        "\n",
        "TODO - talk about data\n",
        "\n",
        "TODO - talk about the dataset (source, what it contains, how it will be useful) \n",
        "\n",
        "\n",
        "\n",
        "*   Kaggle\n",
        "*   Information about accidents\n",
        "*   Can be useful to prevent accidents\n",
        "*   Mention that it does not contain data for New York\n"
      ]
    },
    {
      "cell_type": "code",
      "metadata": {
        "id": "QumHhyXuNfeh"
      },
      "source": [
        "pip install opendatasets --upgrade --quiet"
      ],
      "execution_count": 4,
      "outputs": []
    },
    {
      "cell_type": "markdown",
      "metadata": {
        "id": "lXzlI-1PNiGQ"
      },
      "source": [
        "## Download the data"
      ]
    },
    {
      "cell_type": "code",
      "metadata": {
        "colab": {
          "base_uri": "https://localhost:8080/"
        },
        "id": "TstOknlpQEMD",
        "outputId": "65067134-7d23-4229-b26a-7cdbcf66bcf8"
      },
      "source": [
        "import opendatasets as od\n",
        "download_url = \"https://www.kaggle.com/sobhanmoosavi/us-accidents\"\n",
        "od.download(download_url)\n"
      ],
      "execution_count": 5,
      "outputs": [
        {
          "output_type": "stream",
          "name": "stdout",
          "text": [
            "Please provide your Kaggle credentials to download this dataset. Learn more: http://bit.ly/kaggle-creds\n",
            "Your Kaggle username: vickpro\n",
            "Your Kaggle Key: ··········\n",
            "Downloading us-accidents.zip to ./us-accidents\n"
          ]
        },
        {
          "output_type": "stream",
          "name": "stderr",
          "text": [
            "100%|██████████| 117M/117M [00:03<00:00, 34.7MB/s]\n"
          ]
        },
        {
          "output_type": "stream",
          "name": "stdout",
          "text": [
            "\n"
          ]
        }
      ]
    },
    {
      "cell_type": "code",
      "metadata": {
        "id": "QJeeqHYRRinL"
      },
      "source": [
        "data_filename = './us-accidents/US_Accidents_Dec20_updated.csv'"
      ],
      "execution_count": 6,
      "outputs": []
    },
    {
      "cell_type": "markdown",
      "metadata": {
        "id": "-Uok6Xn6NwBz"
      },
      "source": [
        "## Data Preparationa And Cleaning\n",
        "\n",
        "\n",
        "\n",
        "*   Load the files using Pandas\n",
        "*   Look at some information about the data & the columns\n",
        "*   Fix any missing or incorrect values \n",
        "\n"
      ]
    },
    {
      "cell_type": "code",
      "metadata": {
        "id": "sBS9USukMSUp"
      },
      "source": [
        "import pandas as pd"
      ],
      "execution_count": 7,
      "outputs": []
    },
    {
      "cell_type": "code",
      "metadata": {
        "id": "I9EaAvpKN3r7"
      },
      "source": [
        "df = pd.read_csv(data_filename)"
      ],
      "execution_count": 8,
      "outputs": []
    },
    {
      "cell_type": "code",
      "metadata": {
        "id": "9ODCeIaHN3jm",
        "colab": {
          "base_uri": "https://localhost:8080/",
          "height": 891
        },
        "outputId": "de5d757d-c13f-4e63-e5b7-592337f12dee"
      },
      "source": [
        "df"
      ],
      "execution_count": 9,
      "outputs": [
        {
          "output_type": "execute_result",
          "data": {
            "text/html": [
              "<div>\n",
              "<style scoped>\n",
              "    .dataframe tbody tr th:only-of-type {\n",
              "        vertical-align: middle;\n",
              "    }\n",
              "\n",
              "    .dataframe tbody tr th {\n",
              "        vertical-align: top;\n",
              "    }\n",
              "\n",
              "    .dataframe thead th {\n",
              "        text-align: right;\n",
              "    }\n",
              "</style>\n",
              "<table border=\"1\" class=\"dataframe\">\n",
              "  <thead>\n",
              "    <tr style=\"text-align: right;\">\n",
              "      <th></th>\n",
              "      <th>ID</th>\n",
              "      <th>Severity</th>\n",
              "      <th>Start_Time</th>\n",
              "      <th>End_Time</th>\n",
              "      <th>Start_Lat</th>\n",
              "      <th>Start_Lng</th>\n",
              "      <th>End_Lat</th>\n",
              "      <th>End_Lng</th>\n",
              "      <th>Distance(mi)</th>\n",
              "      <th>Description</th>\n",
              "      <th>Number</th>\n",
              "      <th>Street</th>\n",
              "      <th>Side</th>\n",
              "      <th>City</th>\n",
              "      <th>County</th>\n",
              "      <th>State</th>\n",
              "      <th>Zipcode</th>\n",
              "      <th>Country</th>\n",
              "      <th>Timezone</th>\n",
              "      <th>Airport_Code</th>\n",
              "      <th>Weather_Timestamp</th>\n",
              "      <th>Temperature(F)</th>\n",
              "      <th>Wind_Chill(F)</th>\n",
              "      <th>Humidity(%)</th>\n",
              "      <th>Pressure(in)</th>\n",
              "      <th>Visibility(mi)</th>\n",
              "      <th>Wind_Direction</th>\n",
              "      <th>Wind_Speed(mph)</th>\n",
              "      <th>Precipitation(in)</th>\n",
              "      <th>Weather_Condition</th>\n",
              "      <th>Amenity</th>\n",
              "      <th>Bump</th>\n",
              "      <th>Crossing</th>\n",
              "      <th>Give_Way</th>\n",
              "      <th>Junction</th>\n",
              "      <th>No_Exit</th>\n",
              "      <th>Railway</th>\n",
              "      <th>Roundabout</th>\n",
              "      <th>Station</th>\n",
              "      <th>Stop</th>\n",
              "      <th>Traffic_Calming</th>\n",
              "      <th>Traffic_Signal</th>\n",
              "      <th>Turning_Loop</th>\n",
              "      <th>Sunrise_Sunset</th>\n",
              "      <th>Civil_Twilight</th>\n",
              "      <th>Nautical_Twilight</th>\n",
              "      <th>Astronomical_Twilight</th>\n",
              "    </tr>\n",
              "  </thead>\n",
              "  <tbody>\n",
              "    <tr>\n",
              "      <th>0</th>\n",
              "      <td>A-2716600</td>\n",
              "      <td>3</td>\n",
              "      <td>2016-02-08 00:37:08</td>\n",
              "      <td>2016-02-08 06:37:08</td>\n",
              "      <td>40.10891</td>\n",
              "      <td>-83.09286</td>\n",
              "      <td>40.11206</td>\n",
              "      <td>-83.03187</td>\n",
              "      <td>3.230</td>\n",
              "      <td>Between Sawmill Rd/Exit 20 and OH-315/Olentang...</td>\n",
              "      <td>NaN</td>\n",
              "      <td>Outerbelt E</td>\n",
              "      <td>R</td>\n",
              "      <td>Dublin</td>\n",
              "      <td>Franklin</td>\n",
              "      <td>OH</td>\n",
              "      <td>43017</td>\n",
              "      <td>US</td>\n",
              "      <td>US/Eastern</td>\n",
              "      <td>KOSU</td>\n",
              "      <td>2016-02-08 00:53:00</td>\n",
              "      <td>42.1</td>\n",
              "      <td>36.1</td>\n",
              "      <td>58.0</td>\n",
              "      <td>29.76</td>\n",
              "      <td>10.0</td>\n",
              "      <td>SW</td>\n",
              "      <td>10.4</td>\n",
              "      <td>0.00</td>\n",
              "      <td>Light Rain</td>\n",
              "      <td>False</td>\n",
              "      <td>False</td>\n",
              "      <td>False</td>\n",
              "      <td>False</td>\n",
              "      <td>False</td>\n",
              "      <td>False</td>\n",
              "      <td>False</td>\n",
              "      <td>False</td>\n",
              "      <td>False</td>\n",
              "      <td>False</td>\n",
              "      <td>False</td>\n",
              "      <td>False</td>\n",
              "      <td>False</td>\n",
              "      <td>Night</td>\n",
              "      <td>Night</td>\n",
              "      <td>Night</td>\n",
              "      <td>Night</td>\n",
              "    </tr>\n",
              "    <tr>\n",
              "      <th>1</th>\n",
              "      <td>A-2716601</td>\n",
              "      <td>2</td>\n",
              "      <td>2016-02-08 05:56:20</td>\n",
              "      <td>2016-02-08 11:56:20</td>\n",
              "      <td>39.86542</td>\n",
              "      <td>-84.06280</td>\n",
              "      <td>39.86501</td>\n",
              "      <td>-84.04873</td>\n",
              "      <td>0.747</td>\n",
              "      <td>At OH-4/OH-235/Exit 41 - Accident.</td>\n",
              "      <td>NaN</td>\n",
              "      <td>I-70 E</td>\n",
              "      <td>R</td>\n",
              "      <td>Dayton</td>\n",
              "      <td>Montgomery</td>\n",
              "      <td>OH</td>\n",
              "      <td>45424</td>\n",
              "      <td>US</td>\n",
              "      <td>US/Eastern</td>\n",
              "      <td>KFFO</td>\n",
              "      <td>2016-02-08 05:58:00</td>\n",
              "      <td>36.9</td>\n",
              "      <td>NaN</td>\n",
              "      <td>91.0</td>\n",
              "      <td>29.68</td>\n",
              "      <td>10.0</td>\n",
              "      <td>Calm</td>\n",
              "      <td>NaN</td>\n",
              "      <td>0.02</td>\n",
              "      <td>Light Rain</td>\n",
              "      <td>False</td>\n",
              "      <td>False</td>\n",
              "      <td>False</td>\n",
              "      <td>False</td>\n",
              "      <td>False</td>\n",
              "      <td>False</td>\n",
              "      <td>False</td>\n",
              "      <td>False</td>\n",
              "      <td>False</td>\n",
              "      <td>False</td>\n",
              "      <td>False</td>\n",
              "      <td>False</td>\n",
              "      <td>False</td>\n",
              "      <td>Night</td>\n",
              "      <td>Night</td>\n",
              "      <td>Night</td>\n",
              "      <td>Night</td>\n",
              "    </tr>\n",
              "    <tr>\n",
              "      <th>2</th>\n",
              "      <td>A-2716602</td>\n",
              "      <td>2</td>\n",
              "      <td>2016-02-08 06:15:39</td>\n",
              "      <td>2016-02-08 12:15:39</td>\n",
              "      <td>39.10266</td>\n",
              "      <td>-84.52468</td>\n",
              "      <td>39.10209</td>\n",
              "      <td>-84.52396</td>\n",
              "      <td>0.055</td>\n",
              "      <td>At I-71/US-50/Exit 1 - Accident.</td>\n",
              "      <td>NaN</td>\n",
              "      <td>I-75 S</td>\n",
              "      <td>R</td>\n",
              "      <td>Cincinnati</td>\n",
              "      <td>Hamilton</td>\n",
              "      <td>OH</td>\n",
              "      <td>45203</td>\n",
              "      <td>US</td>\n",
              "      <td>US/Eastern</td>\n",
              "      <td>KLUK</td>\n",
              "      <td>2016-02-08 05:53:00</td>\n",
              "      <td>36.0</td>\n",
              "      <td>NaN</td>\n",
              "      <td>97.0</td>\n",
              "      <td>29.70</td>\n",
              "      <td>10.0</td>\n",
              "      <td>Calm</td>\n",
              "      <td>NaN</td>\n",
              "      <td>0.02</td>\n",
              "      <td>Overcast</td>\n",
              "      <td>False</td>\n",
              "      <td>False</td>\n",
              "      <td>False</td>\n",
              "      <td>False</td>\n",
              "      <td>True</td>\n",
              "      <td>False</td>\n",
              "      <td>False</td>\n",
              "      <td>False</td>\n",
              "      <td>False</td>\n",
              "      <td>False</td>\n",
              "      <td>False</td>\n",
              "      <td>False</td>\n",
              "      <td>False</td>\n",
              "      <td>Night</td>\n",
              "      <td>Night</td>\n",
              "      <td>Night</td>\n",
              "      <td>Day</td>\n",
              "    </tr>\n",
              "    <tr>\n",
              "      <th>3</th>\n",
              "      <td>A-2716603</td>\n",
              "      <td>2</td>\n",
              "      <td>2016-02-08 06:15:39</td>\n",
              "      <td>2016-02-08 12:15:39</td>\n",
              "      <td>39.10148</td>\n",
              "      <td>-84.52341</td>\n",
              "      <td>39.09841</td>\n",
              "      <td>-84.52241</td>\n",
              "      <td>0.219</td>\n",
              "      <td>At I-71/US-50/Exit 1 - Accident.</td>\n",
              "      <td>NaN</td>\n",
              "      <td>US-50 E</td>\n",
              "      <td>R</td>\n",
              "      <td>Cincinnati</td>\n",
              "      <td>Hamilton</td>\n",
              "      <td>OH</td>\n",
              "      <td>45202</td>\n",
              "      <td>US</td>\n",
              "      <td>US/Eastern</td>\n",
              "      <td>KLUK</td>\n",
              "      <td>2016-02-08 05:53:00</td>\n",
              "      <td>36.0</td>\n",
              "      <td>NaN</td>\n",
              "      <td>97.0</td>\n",
              "      <td>29.70</td>\n",
              "      <td>10.0</td>\n",
              "      <td>Calm</td>\n",
              "      <td>NaN</td>\n",
              "      <td>0.02</td>\n",
              "      <td>Overcast</td>\n",
              "      <td>False</td>\n",
              "      <td>False</td>\n",
              "      <td>False</td>\n",
              "      <td>False</td>\n",
              "      <td>True</td>\n",
              "      <td>False</td>\n",
              "      <td>False</td>\n",
              "      <td>False</td>\n",
              "      <td>False</td>\n",
              "      <td>False</td>\n",
              "      <td>False</td>\n",
              "      <td>False</td>\n",
              "      <td>False</td>\n",
              "      <td>Night</td>\n",
              "      <td>Night</td>\n",
              "      <td>Night</td>\n",
              "      <td>Day</td>\n",
              "    </tr>\n",
              "    <tr>\n",
              "      <th>4</th>\n",
              "      <td>A-2716604</td>\n",
              "      <td>2</td>\n",
              "      <td>2016-02-08 06:51:45</td>\n",
              "      <td>2016-02-08 12:51:45</td>\n",
              "      <td>41.06213</td>\n",
              "      <td>-81.53784</td>\n",
              "      <td>41.06217</td>\n",
              "      <td>-81.53547</td>\n",
              "      <td>0.123</td>\n",
              "      <td>At Dart Ave/Exit 21 - Accident.</td>\n",
              "      <td>NaN</td>\n",
              "      <td>I-77 N</td>\n",
              "      <td>R</td>\n",
              "      <td>Akron</td>\n",
              "      <td>Summit</td>\n",
              "      <td>OH</td>\n",
              "      <td>44311</td>\n",
              "      <td>US</td>\n",
              "      <td>US/Eastern</td>\n",
              "      <td>KAKR</td>\n",
              "      <td>2016-02-08 06:54:00</td>\n",
              "      <td>39.0</td>\n",
              "      <td>NaN</td>\n",
              "      <td>55.0</td>\n",
              "      <td>29.65</td>\n",
              "      <td>10.0</td>\n",
              "      <td>Calm</td>\n",
              "      <td>NaN</td>\n",
              "      <td>NaN</td>\n",
              "      <td>Overcast</td>\n",
              "      <td>False</td>\n",
              "      <td>False</td>\n",
              "      <td>False</td>\n",
              "      <td>False</td>\n",
              "      <td>False</td>\n",
              "      <td>False</td>\n",
              "      <td>False</td>\n",
              "      <td>False</td>\n",
              "      <td>False</td>\n",
              "      <td>False</td>\n",
              "      <td>False</td>\n",
              "      <td>False</td>\n",
              "      <td>False</td>\n",
              "      <td>Night</td>\n",
              "      <td>Night</td>\n",
              "      <td>Day</td>\n",
              "      <td>Day</td>\n",
              "    </tr>\n",
              "    <tr>\n",
              "      <th>...</th>\n",
              "      <td>...</td>\n",
              "      <td>...</td>\n",
              "      <td>...</td>\n",
              "      <td>...</td>\n",
              "      <td>...</td>\n",
              "      <td>...</td>\n",
              "      <td>...</td>\n",
              "      <td>...</td>\n",
              "      <td>...</td>\n",
              "      <td>...</td>\n",
              "      <td>...</td>\n",
              "      <td>...</td>\n",
              "      <td>...</td>\n",
              "      <td>...</td>\n",
              "      <td>...</td>\n",
              "      <td>...</td>\n",
              "      <td>...</td>\n",
              "      <td>...</td>\n",
              "      <td>...</td>\n",
              "      <td>...</td>\n",
              "      <td>...</td>\n",
              "      <td>...</td>\n",
              "      <td>...</td>\n",
              "      <td>...</td>\n",
              "      <td>...</td>\n",
              "      <td>...</td>\n",
              "      <td>...</td>\n",
              "      <td>...</td>\n",
              "      <td>...</td>\n",
              "      <td>...</td>\n",
              "      <td>...</td>\n",
              "      <td>...</td>\n",
              "      <td>...</td>\n",
              "      <td>...</td>\n",
              "      <td>...</td>\n",
              "      <td>...</td>\n",
              "      <td>...</td>\n",
              "      <td>...</td>\n",
              "      <td>...</td>\n",
              "      <td>...</td>\n",
              "      <td>...</td>\n",
              "      <td>...</td>\n",
              "      <td>...</td>\n",
              "      <td>...</td>\n",
              "      <td>...</td>\n",
              "      <td>...</td>\n",
              "      <td>...</td>\n",
              "    </tr>\n",
              "    <tr>\n",
              "      <th>1516059</th>\n",
              "      <td>A-4239402</td>\n",
              "      <td>2</td>\n",
              "      <td>2019-08-23 18:03:25</td>\n",
              "      <td>2019-08-23 18:32:01</td>\n",
              "      <td>34.00248</td>\n",
              "      <td>-117.37936</td>\n",
              "      <td>33.99888</td>\n",
              "      <td>-117.37094</td>\n",
              "      <td>0.543</td>\n",
              "      <td>At Market St - Accident.</td>\n",
              "      <td>NaN</td>\n",
              "      <td>Pomona Fwy E</td>\n",
              "      <td>R</td>\n",
              "      <td>Riverside</td>\n",
              "      <td>Riverside</td>\n",
              "      <td>CA</td>\n",
              "      <td>92501</td>\n",
              "      <td>US</td>\n",
              "      <td>US/Pacific</td>\n",
              "      <td>KRAL</td>\n",
              "      <td>2019-08-23 17:53:00</td>\n",
              "      <td>86.0</td>\n",
              "      <td>86.0</td>\n",
              "      <td>40.0</td>\n",
              "      <td>28.92</td>\n",
              "      <td>10.0</td>\n",
              "      <td>W</td>\n",
              "      <td>13.0</td>\n",
              "      <td>0.00</td>\n",
              "      <td>Fair</td>\n",
              "      <td>False</td>\n",
              "      <td>False</td>\n",
              "      <td>False</td>\n",
              "      <td>False</td>\n",
              "      <td>False</td>\n",
              "      <td>False</td>\n",
              "      <td>False</td>\n",
              "      <td>False</td>\n",
              "      <td>False</td>\n",
              "      <td>False</td>\n",
              "      <td>False</td>\n",
              "      <td>False</td>\n",
              "      <td>False</td>\n",
              "      <td>Day</td>\n",
              "      <td>Day</td>\n",
              "      <td>Day</td>\n",
              "      <td>Day</td>\n",
              "    </tr>\n",
              "    <tr>\n",
              "      <th>1516060</th>\n",
              "      <td>A-4239403</td>\n",
              "      <td>2</td>\n",
              "      <td>2019-08-23 19:11:30</td>\n",
              "      <td>2019-08-23 19:38:23</td>\n",
              "      <td>32.76696</td>\n",
              "      <td>-117.14806</td>\n",
              "      <td>32.76555</td>\n",
              "      <td>-117.15363</td>\n",
              "      <td>0.338</td>\n",
              "      <td>At Camino Del Rio/Mission Center Rd - Accident.</td>\n",
              "      <td>NaN</td>\n",
              "      <td>I-8 W</td>\n",
              "      <td>R</td>\n",
              "      <td>San Diego</td>\n",
              "      <td>San Diego</td>\n",
              "      <td>CA</td>\n",
              "      <td>92108</td>\n",
              "      <td>US</td>\n",
              "      <td>US/Pacific</td>\n",
              "      <td>KMYF</td>\n",
              "      <td>2019-08-23 18:53:00</td>\n",
              "      <td>70.0</td>\n",
              "      <td>70.0</td>\n",
              "      <td>73.0</td>\n",
              "      <td>29.39</td>\n",
              "      <td>10.0</td>\n",
              "      <td>SW</td>\n",
              "      <td>6.0</td>\n",
              "      <td>0.00</td>\n",
              "      <td>Fair</td>\n",
              "      <td>False</td>\n",
              "      <td>False</td>\n",
              "      <td>False</td>\n",
              "      <td>False</td>\n",
              "      <td>False</td>\n",
              "      <td>False</td>\n",
              "      <td>False</td>\n",
              "      <td>False</td>\n",
              "      <td>False</td>\n",
              "      <td>False</td>\n",
              "      <td>False</td>\n",
              "      <td>False</td>\n",
              "      <td>False</td>\n",
              "      <td>Day</td>\n",
              "      <td>Day</td>\n",
              "      <td>Day</td>\n",
              "      <td>Day</td>\n",
              "    </tr>\n",
              "    <tr>\n",
              "      <th>1516061</th>\n",
              "      <td>A-4239404</td>\n",
              "      <td>2</td>\n",
              "      <td>2019-08-23 19:00:21</td>\n",
              "      <td>2019-08-23 19:28:49</td>\n",
              "      <td>33.77545</td>\n",
              "      <td>-117.84779</td>\n",
              "      <td>33.77740</td>\n",
              "      <td>-117.85727</td>\n",
              "      <td>0.561</td>\n",
              "      <td>At Glassell St/Grand Ave - Accident. in the ri...</td>\n",
              "      <td>NaN</td>\n",
              "      <td>Garden Grove Fwy</td>\n",
              "      <td>R</td>\n",
              "      <td>Orange</td>\n",
              "      <td>Orange</td>\n",
              "      <td>CA</td>\n",
              "      <td>92866</td>\n",
              "      <td>US</td>\n",
              "      <td>US/Pacific</td>\n",
              "      <td>KSNA</td>\n",
              "      <td>2019-08-23 18:53:00</td>\n",
              "      <td>73.0</td>\n",
              "      <td>73.0</td>\n",
              "      <td>64.0</td>\n",
              "      <td>29.74</td>\n",
              "      <td>10.0</td>\n",
              "      <td>SSW</td>\n",
              "      <td>10.0</td>\n",
              "      <td>0.00</td>\n",
              "      <td>Partly Cloudy</td>\n",
              "      <td>False</td>\n",
              "      <td>False</td>\n",
              "      <td>False</td>\n",
              "      <td>False</td>\n",
              "      <td>True</td>\n",
              "      <td>False</td>\n",
              "      <td>False</td>\n",
              "      <td>False</td>\n",
              "      <td>False</td>\n",
              "      <td>False</td>\n",
              "      <td>False</td>\n",
              "      <td>False</td>\n",
              "      <td>False</td>\n",
              "      <td>Day</td>\n",
              "      <td>Day</td>\n",
              "      <td>Day</td>\n",
              "      <td>Day</td>\n",
              "    </tr>\n",
              "    <tr>\n",
              "      <th>1516062</th>\n",
              "      <td>A-4239405</td>\n",
              "      <td>2</td>\n",
              "      <td>2019-08-23 19:00:21</td>\n",
              "      <td>2019-08-23 19:29:42</td>\n",
              "      <td>33.99246</td>\n",
              "      <td>-118.40302</td>\n",
              "      <td>33.98311</td>\n",
              "      <td>-118.39565</td>\n",
              "      <td>0.772</td>\n",
              "      <td>At CA-90/Marina Fwy/Jefferson Blvd - Accident.</td>\n",
              "      <td>NaN</td>\n",
              "      <td>San Diego Fwy S</td>\n",
              "      <td>R</td>\n",
              "      <td>Culver City</td>\n",
              "      <td>Los Angeles</td>\n",
              "      <td>CA</td>\n",
              "      <td>90230</td>\n",
              "      <td>US</td>\n",
              "      <td>US/Pacific</td>\n",
              "      <td>KSMO</td>\n",
              "      <td>2019-08-23 18:51:00</td>\n",
              "      <td>71.0</td>\n",
              "      <td>71.0</td>\n",
              "      <td>81.0</td>\n",
              "      <td>29.62</td>\n",
              "      <td>10.0</td>\n",
              "      <td>SW</td>\n",
              "      <td>8.0</td>\n",
              "      <td>0.00</td>\n",
              "      <td>Fair</td>\n",
              "      <td>False</td>\n",
              "      <td>False</td>\n",
              "      <td>False</td>\n",
              "      <td>False</td>\n",
              "      <td>False</td>\n",
              "      <td>False</td>\n",
              "      <td>False</td>\n",
              "      <td>False</td>\n",
              "      <td>False</td>\n",
              "      <td>False</td>\n",
              "      <td>False</td>\n",
              "      <td>False</td>\n",
              "      <td>False</td>\n",
              "      <td>Day</td>\n",
              "      <td>Day</td>\n",
              "      <td>Day</td>\n",
              "      <td>Day</td>\n",
              "    </tr>\n",
              "    <tr>\n",
              "      <th>1516063</th>\n",
              "      <td>A-4239406</td>\n",
              "      <td>2</td>\n",
              "      <td>2019-08-23 18:52:06</td>\n",
              "      <td>2019-08-23 19:21:31</td>\n",
              "      <td>34.13393</td>\n",
              "      <td>-117.23092</td>\n",
              "      <td>34.13736</td>\n",
              "      <td>-117.23934</td>\n",
              "      <td>0.537</td>\n",
              "      <td>At Highland Ave/Arden Ave - Accident.</td>\n",
              "      <td>NaN</td>\n",
              "      <td>CA-210 W</td>\n",
              "      <td>R</td>\n",
              "      <td>Highland</td>\n",
              "      <td>San Bernardino</td>\n",
              "      <td>CA</td>\n",
              "      <td>92346</td>\n",
              "      <td>US</td>\n",
              "      <td>US/Pacific</td>\n",
              "      <td>KSBD</td>\n",
              "      <td>2019-08-23 20:50:00</td>\n",
              "      <td>79.0</td>\n",
              "      <td>79.0</td>\n",
              "      <td>47.0</td>\n",
              "      <td>28.63</td>\n",
              "      <td>7.0</td>\n",
              "      <td>SW</td>\n",
              "      <td>7.0</td>\n",
              "      <td>0.00</td>\n",
              "      <td>Fair</td>\n",
              "      <td>False</td>\n",
              "      <td>False</td>\n",
              "      <td>False</td>\n",
              "      <td>False</td>\n",
              "      <td>False</td>\n",
              "      <td>False</td>\n",
              "      <td>False</td>\n",
              "      <td>False</td>\n",
              "      <td>False</td>\n",
              "      <td>False</td>\n",
              "      <td>False</td>\n",
              "      <td>False</td>\n",
              "      <td>False</td>\n",
              "      <td>Day</td>\n",
              "      <td>Day</td>\n",
              "      <td>Day</td>\n",
              "      <td>Day</td>\n",
              "    </tr>\n",
              "  </tbody>\n",
              "</table>\n",
              "<p>1516064 rows × 47 columns</p>\n",
              "</div>"
            ],
            "text/plain": [
              "                ID  Severity  ... Nautical_Twilight Astronomical_Twilight\n",
              "0        A-2716600         3  ...             Night                 Night\n",
              "1        A-2716601         2  ...             Night                 Night\n",
              "2        A-2716602         2  ...             Night                   Day\n",
              "3        A-2716603         2  ...             Night                   Day\n",
              "4        A-2716604         2  ...               Day                   Day\n",
              "...            ...       ...  ...               ...                   ...\n",
              "1516059  A-4239402         2  ...               Day                   Day\n",
              "1516060  A-4239403         2  ...               Day                   Day\n",
              "1516061  A-4239404         2  ...               Day                   Day\n",
              "1516062  A-4239405         2  ...               Day                   Day\n",
              "1516063  A-4239406         2  ...               Day                   Day\n",
              "\n",
              "[1516064 rows x 47 columns]"
            ]
          },
          "metadata": {},
          "execution_count": 9
        }
      ]
    },
    {
      "cell_type": "code",
      "metadata": {
        "id": "tBv4KGAIN3TM",
        "colab": {
          "base_uri": "https://localhost:8080/"
        },
        "outputId": "93e7f06b-af22-4fd3-92c6-d724b253ae71"
      },
      "source": [
        "df.columns"
      ],
      "execution_count": 32,
      "outputs": [
        {
          "output_type": "execute_result",
          "data": {
            "text/plain": [
              "Index(['ID', 'Severity', 'Start_Time', 'End_Time', 'Start_Lat', 'Start_Lng',\n",
              "       'End_Lat', 'End_Lng', 'Distance(mi)', 'Description', 'Number', 'Street',\n",
              "       'Side', 'City', 'County', 'State', 'Zipcode', 'Country', 'Timezone',\n",
              "       'Airport_Code', 'Weather_Timestamp', 'Temperature(F)', 'Wind_Chill(F)',\n",
              "       'Humidity(%)', 'Pressure(in)', 'Visibility(mi)', 'Wind_Direction',\n",
              "       'Wind_Speed(mph)', 'Precipitation(in)', 'Weather_Condition', 'Amenity',\n",
              "       'Bump', 'Crossing', 'Give_Way', 'Junction', 'No_Exit', 'Railway',\n",
              "       'Roundabout', 'Station', 'Stop', 'Traffic_Calming', 'Traffic_Signal',\n",
              "       'Turning_Loop', 'Sunrise_Sunset', 'Civil_Twilight', 'Nautical_Twilight',\n",
              "       'Astronomical_Twilight'],\n",
              "      dtype='object')"
            ]
          },
          "metadata": {},
          "execution_count": 32
        }
      ]
    },
    {
      "cell_type": "code",
      "metadata": {
        "colab": {
          "base_uri": "https://localhost:8080/"
        },
        "id": "DQ-gBAwAT4q0",
        "outputId": "bd3dc769-bff6-4d1d-f7a9-d6a705718729"
      },
      "source": [
        "len(df.columns)"
      ],
      "execution_count": 10,
      "outputs": [
        {
          "output_type": "execute_result",
          "data": {
            "text/plain": [
              "47"
            ]
          },
          "metadata": {},
          "execution_count": 10
        }
      ]
    },
    {
      "cell_type": "code",
      "metadata": {
        "colab": {
          "base_uri": "https://localhost:8080/"
        },
        "id": "SL_eQTufT4n-",
        "outputId": "1c1951ee-5f03-4490-ec5a-f6814ad82be9"
      },
      "source": [
        "df.info()"
      ],
      "execution_count": 11,
      "outputs": [
        {
          "output_type": "stream",
          "name": "stdout",
          "text": [
            "<class 'pandas.core.frame.DataFrame'>\n",
            "RangeIndex: 1516064 entries, 0 to 1516063\n",
            "Data columns (total 47 columns):\n",
            " #   Column                 Non-Null Count    Dtype  \n",
            "---  ------                 --------------    -----  \n",
            " 0   ID                     1516064 non-null  object \n",
            " 1   Severity               1516064 non-null  int64  \n",
            " 2   Start_Time             1516064 non-null  object \n",
            " 3   End_Time               1516064 non-null  object \n",
            " 4   Start_Lat              1516064 non-null  float64\n",
            " 5   Start_Lng              1516064 non-null  float64\n",
            " 6   End_Lat                1516064 non-null  float64\n",
            " 7   End_Lng                1516064 non-null  float64\n",
            " 8   Distance(mi)           1516064 non-null  float64\n",
            " 9   Description            1516064 non-null  object \n",
            " 10  Number                 469969 non-null   float64\n",
            " 11  Street                 1516064 non-null  object \n",
            " 12  Side                   1516064 non-null  object \n",
            " 13  City                   1515981 non-null  object \n",
            " 14  County                 1516064 non-null  object \n",
            " 15  State                  1516064 non-null  object \n",
            " 16  Zipcode                1515129 non-null  object \n",
            " 17  Country                1516064 non-null  object \n",
            " 18  Timezone               1513762 non-null  object \n",
            " 19  Airport_Code           1511816 non-null  object \n",
            " 20  Weather_Timestamp      1485800 non-null  object \n",
            " 21  Temperature(F)         1473031 non-null  float64\n",
            " 22  Wind_Chill(F)          1066748 non-null  float64\n",
            " 23  Humidity(%)            1470555 non-null  float64\n",
            " 24  Pressure(in)           1479790 non-null  float64\n",
            " 25  Visibility(mi)         1471853 non-null  float64\n",
            " 26  Wind_Direction         1474206 non-null  object \n",
            " 27  Wind_Speed(mph)        1387202 non-null  float64\n",
            " 28  Precipitation(in)      1005515 non-null  float64\n",
            " 29  Weather_Condition      1472057 non-null  object \n",
            " 30  Amenity                1516064 non-null  bool   \n",
            " 31  Bump                   1516064 non-null  bool   \n",
            " 32  Crossing               1516064 non-null  bool   \n",
            " 33  Give_Way               1516064 non-null  bool   \n",
            " 34  Junction               1516064 non-null  bool   \n",
            " 35  No_Exit                1516064 non-null  bool   \n",
            " 36  Railway                1516064 non-null  bool   \n",
            " 37  Roundabout             1516064 non-null  bool   \n",
            " 38  Station                1516064 non-null  bool   \n",
            " 39  Stop                   1516064 non-null  bool   \n",
            " 40  Traffic_Calming        1516064 non-null  bool   \n",
            " 41  Traffic_Signal         1516064 non-null  bool   \n",
            " 42  Turning_Loop           1516064 non-null  bool   \n",
            " 43  Sunrise_Sunset         1515981 non-null  object \n",
            " 44  Civil_Twilight         1515981 non-null  object \n",
            " 45  Nautical_Twilight      1515981 non-null  object \n",
            " 46  Astronomical_Twilight  1515981 non-null  object \n",
            "dtypes: bool(13), float64(13), int64(1), object(20)\n",
            "memory usage: 412.1+ MB\n"
          ]
        }
      ]
    },
    {
      "cell_type": "code",
      "metadata": {
        "colab": {
          "base_uri": "https://localhost:8080/",
          "height": 319
        },
        "id": "nDVXjrtqT4lR",
        "outputId": "b450f59a-faa6-44e8-9543-7e793aff79be"
      },
      "source": [
        "df.describe()"
      ],
      "execution_count": 12,
      "outputs": [
        {
          "output_type": "execute_result",
          "data": {
            "text/html": [
              "<div>\n",
              "<style scoped>\n",
              "    .dataframe tbody tr th:only-of-type {\n",
              "        vertical-align: middle;\n",
              "    }\n",
              "\n",
              "    .dataframe tbody tr th {\n",
              "        vertical-align: top;\n",
              "    }\n",
              "\n",
              "    .dataframe thead th {\n",
              "        text-align: right;\n",
              "    }\n",
              "</style>\n",
              "<table border=\"1\" class=\"dataframe\">\n",
              "  <thead>\n",
              "    <tr style=\"text-align: right;\">\n",
              "      <th></th>\n",
              "      <th>Severity</th>\n",
              "      <th>Start_Lat</th>\n",
              "      <th>Start_Lng</th>\n",
              "      <th>End_Lat</th>\n",
              "      <th>End_Lng</th>\n",
              "      <th>Distance(mi)</th>\n",
              "      <th>Number</th>\n",
              "      <th>Temperature(F)</th>\n",
              "      <th>Wind_Chill(F)</th>\n",
              "      <th>Humidity(%)</th>\n",
              "      <th>Pressure(in)</th>\n",
              "      <th>Visibility(mi)</th>\n",
              "      <th>Wind_Speed(mph)</th>\n",
              "      <th>Precipitation(in)</th>\n",
              "    </tr>\n",
              "  </thead>\n",
              "  <tbody>\n",
              "    <tr>\n",
              "      <th>count</th>\n",
              "      <td>1.516064e+06</td>\n",
              "      <td>1.516064e+06</td>\n",
              "      <td>1.516064e+06</td>\n",
              "      <td>1.516064e+06</td>\n",
              "      <td>1.516064e+06</td>\n",
              "      <td>1.516064e+06</td>\n",
              "      <td>4.699690e+05</td>\n",
              "      <td>1.473031e+06</td>\n",
              "      <td>1.066748e+06</td>\n",
              "      <td>1.470555e+06</td>\n",
              "      <td>1.479790e+06</td>\n",
              "      <td>1.471853e+06</td>\n",
              "      <td>1.387202e+06</td>\n",
              "      <td>1.005515e+06</td>\n",
              "    </tr>\n",
              "    <tr>\n",
              "      <th>mean</th>\n",
              "      <td>2.238630e+00</td>\n",
              "      <td>3.690056e+01</td>\n",
              "      <td>-9.859919e+01</td>\n",
              "      <td>3.690061e+01</td>\n",
              "      <td>-9.859901e+01</td>\n",
              "      <td>5.872617e-01</td>\n",
              "      <td>8.907533e+03</td>\n",
              "      <td>5.958460e+01</td>\n",
              "      <td>5.510976e+01</td>\n",
              "      <td>6.465960e+01</td>\n",
              "      <td>2.955495e+01</td>\n",
              "      <td>9.131755e+00</td>\n",
              "      <td>7.630812e+00</td>\n",
              "      <td>8.477855e-03</td>\n",
              "    </tr>\n",
              "    <tr>\n",
              "      <th>std</th>\n",
              "      <td>6.081481e-01</td>\n",
              "      <td>5.165653e+00</td>\n",
              "      <td>1.849602e+01</td>\n",
              "      <td>5.165629e+00</td>\n",
              "      <td>1.849590e+01</td>\n",
              "      <td>1.632659e+00</td>\n",
              "      <td>2.242190e+04</td>\n",
              "      <td>1.827316e+01</td>\n",
              "      <td>2.112735e+01</td>\n",
              "      <td>2.325986e+01</td>\n",
              "      <td>1.016756e+00</td>\n",
              "      <td>2.889112e+00</td>\n",
              "      <td>5.637364e+00</td>\n",
              "      <td>1.293168e-01</td>\n",
              "    </tr>\n",
              "    <tr>\n",
              "      <th>min</th>\n",
              "      <td>1.000000e+00</td>\n",
              "      <td>2.457022e+01</td>\n",
              "      <td>-1.244976e+02</td>\n",
              "      <td>2.457011e+01</td>\n",
              "      <td>-1.244978e+02</td>\n",
              "      <td>0.000000e+00</td>\n",
              "      <td>0.000000e+00</td>\n",
              "      <td>-8.900000e+01</td>\n",
              "      <td>-8.900000e+01</td>\n",
              "      <td>1.000000e+00</td>\n",
              "      <td>0.000000e+00</td>\n",
              "      <td>0.000000e+00</td>\n",
              "      <td>0.000000e+00</td>\n",
              "      <td>0.000000e+00</td>\n",
              "    </tr>\n",
              "    <tr>\n",
              "      <th>25%</th>\n",
              "      <td>2.000000e+00</td>\n",
              "      <td>3.385422e+01</td>\n",
              "      <td>-1.182076e+02</td>\n",
              "      <td>3.385420e+01</td>\n",
              "      <td>-1.182077e+02</td>\n",
              "      <td>0.000000e+00</td>\n",
              "      <td>1.212000e+03</td>\n",
              "      <td>4.700000e+01</td>\n",
              "      <td>4.080000e+01</td>\n",
              "      <td>4.800000e+01</td>\n",
              "      <td>2.944000e+01</td>\n",
              "      <td>1.000000e+01</td>\n",
              "      <td>4.600000e+00</td>\n",
              "      <td>0.000000e+00</td>\n",
              "    </tr>\n",
              "    <tr>\n",
              "      <th>50%</th>\n",
              "      <td>2.000000e+00</td>\n",
              "      <td>3.735113e+01</td>\n",
              "      <td>-9.438100e+01</td>\n",
              "      <td>3.735134e+01</td>\n",
              "      <td>-9.437987e+01</td>\n",
              "      <td>1.780000e-01</td>\n",
              "      <td>4.000000e+03</td>\n",
              "      <td>6.100000e+01</td>\n",
              "      <td>5.700000e+01</td>\n",
              "      <td>6.800000e+01</td>\n",
              "      <td>2.988000e+01</td>\n",
              "      <td>1.000000e+01</td>\n",
              "      <td>7.000000e+00</td>\n",
              "      <td>0.000000e+00</td>\n",
              "    </tr>\n",
              "    <tr>\n",
              "      <th>75%</th>\n",
              "      <td>2.000000e+00</td>\n",
              "      <td>4.072593e+01</td>\n",
              "      <td>-8.087469e+01</td>\n",
              "      <td>4.072593e+01</td>\n",
              "      <td>-8.087449e+01</td>\n",
              "      <td>5.940000e-01</td>\n",
              "      <td>1.010000e+04</td>\n",
              "      <td>7.300000e+01</td>\n",
              "      <td>7.100000e+01</td>\n",
              "      <td>8.400000e+01</td>\n",
              "      <td>3.004000e+01</td>\n",
              "      <td>1.000000e+01</td>\n",
              "      <td>1.040000e+01</td>\n",
              "      <td>0.000000e+00</td>\n",
              "    </tr>\n",
              "    <tr>\n",
              "      <th>max</th>\n",
              "      <td>4.000000e+00</td>\n",
              "      <td>4.900058e+01</td>\n",
              "      <td>-6.711317e+01</td>\n",
              "      <td>4.907500e+01</td>\n",
              "      <td>-6.710924e+01</td>\n",
              "      <td>1.551860e+02</td>\n",
              "      <td>9.999997e+06</td>\n",
              "      <td>1.706000e+02</td>\n",
              "      <td>1.130000e+02</td>\n",
              "      <td>1.000000e+02</td>\n",
              "      <td>5.804000e+01</td>\n",
              "      <td>1.400000e+02</td>\n",
              "      <td>9.840000e+02</td>\n",
              "      <td>2.400000e+01</td>\n",
              "    </tr>\n",
              "  </tbody>\n",
              "</table>\n",
              "</div>"
            ],
            "text/plain": [
              "           Severity     Start_Lat  ...  Wind_Speed(mph)  Precipitation(in)\n",
              "count  1.516064e+06  1.516064e+06  ...     1.387202e+06       1.005515e+06\n",
              "mean   2.238630e+00  3.690056e+01  ...     7.630812e+00       8.477855e-03\n",
              "std    6.081481e-01  5.165653e+00  ...     5.637364e+00       1.293168e-01\n",
              "min    1.000000e+00  2.457022e+01  ...     0.000000e+00       0.000000e+00\n",
              "25%    2.000000e+00  3.385422e+01  ...     4.600000e+00       0.000000e+00\n",
              "50%    2.000000e+00  3.735113e+01  ...     7.000000e+00       0.000000e+00\n",
              "75%    2.000000e+00  4.072593e+01  ...     1.040000e+01       0.000000e+00\n",
              "max    4.000000e+00  4.900058e+01  ...     9.840000e+02       2.400000e+01\n",
              "\n",
              "[8 rows x 14 columns]"
            ]
          },
          "metadata": {},
          "execution_count": 12
        }
      ]
    },
    {
      "cell_type": "code",
      "metadata": {
        "colab": {
          "base_uri": "https://localhost:8080/"
        },
        "id": "WrEUBSL_UItm",
        "outputId": "68d37965-43a8-474c-c132-4b197e779309"
      },
      "source": [
        "numerics = ['int16', 'int32', 'int64', 'float16', 'float32', 'float64']\n",
        "numeric_df = df.select_dtypes(include=numerics)\n",
        "len(numeric_df.columns)"
      ],
      "execution_count": 13,
      "outputs": [
        {
          "output_type": "execute_result",
          "data": {
            "text/plain": [
              "14"
            ]
          },
          "metadata": {},
          "execution_count": 13
        }
      ]
    },
    {
      "cell_type": "markdown",
      "metadata": {
        "id": "KWb2c1eJWlQg"
      },
      "source": [
        "## Percentage of missing values per column"
      ]
    },
    {
      "cell_type": "code",
      "metadata": {
        "colab": {
          "base_uri": "https://localhost:8080/"
        },
        "id": "2e9LvMJeUIj-",
        "outputId": "6b1bcb9b-2d18-47bb-9759-7e045931b478"
      },
      "source": [
        "missing_percentages = df.isna().sum().sort_values(ascending=False) / len(df)\n",
        "missing_percentages"
      ],
      "execution_count": 14,
      "outputs": [
        {
          "output_type": "execute_result",
          "data": {
            "text/plain": [
              "Number                   0.690007\n",
              "Precipitation(in)        0.336760\n",
              "Wind_Chill(F)            0.296370\n",
              "Wind_Speed(mph)          0.084998\n",
              "Humidity(%)              0.030018\n",
              "Visibility(mi)           0.029162\n",
              "Weather_Condition        0.029027\n",
              "Temperature(F)           0.028385\n",
              "Wind_Direction           0.027610\n",
              "Pressure(in)             0.023926\n",
              "Weather_Timestamp        0.019962\n",
              "Airport_Code             0.002802\n",
              "Timezone                 0.001518\n",
              "Zipcode                  0.000617\n",
              "City                     0.000055\n",
              "Nautical_Twilight        0.000055\n",
              "Astronomical_Twilight    0.000055\n",
              "Civil_Twilight           0.000055\n",
              "Sunrise_Sunset           0.000055\n",
              "Amenity                  0.000000\n",
              "Bump                     0.000000\n",
              "Severity                 0.000000\n",
              "Start_Time               0.000000\n",
              "End_Time                 0.000000\n",
              "Start_Lat                0.000000\n",
              "Start_Lng                0.000000\n",
              "End_Lat                  0.000000\n",
              "End_Lng                  0.000000\n",
              "Distance(mi)             0.000000\n",
              "Description              0.000000\n",
              "Street                   0.000000\n",
              "Side                     0.000000\n",
              "County                   0.000000\n",
              "State                    0.000000\n",
              "Turning_Loop             0.000000\n",
              "Country                  0.000000\n",
              "Traffic_Signal           0.000000\n",
              "Traffic_Calming          0.000000\n",
              "Stop                     0.000000\n",
              "Station                  0.000000\n",
              "Roundabout               0.000000\n",
              "Railway                  0.000000\n",
              "No_Exit                  0.000000\n",
              "Junction                 0.000000\n",
              "Give_Way                 0.000000\n",
              "Crossing                 0.000000\n",
              "ID                       0.000000\n",
              "dtype: float64"
            ]
          },
          "metadata": {},
          "execution_count": 14
        }
      ]
    },
    {
      "cell_type": "code",
      "metadata": {
        "colab": {
          "base_uri": "https://localhost:8080/"
        },
        "id": "WcB7P8lJXuMJ",
        "outputId": "08154222-fb15-4867-f547-929d27ac6f6f"
      },
      "source": [
        "missing_percentages[missing_percentages != 0]"
      ],
      "execution_count": 15,
      "outputs": [
        {
          "output_type": "execute_result",
          "data": {
            "text/plain": [
              "Number                   0.690007\n",
              "Precipitation(in)        0.336760\n",
              "Wind_Chill(F)            0.296370\n",
              "Wind_Speed(mph)          0.084998\n",
              "Humidity(%)              0.030018\n",
              "Visibility(mi)           0.029162\n",
              "Weather_Condition        0.029027\n",
              "Temperature(F)           0.028385\n",
              "Wind_Direction           0.027610\n",
              "Pressure(in)             0.023926\n",
              "Weather_Timestamp        0.019962\n",
              "Airport_Code             0.002802\n",
              "Timezone                 0.001518\n",
              "Zipcode                  0.000617\n",
              "City                     0.000055\n",
              "Nautical_Twilight        0.000055\n",
              "Astronomical_Twilight    0.000055\n",
              "Civil_Twilight           0.000055\n",
              "Sunrise_Sunset           0.000055\n",
              "dtype: float64"
            ]
          },
          "metadata": {},
          "execution_count": 15
        }
      ]
    },
    {
      "cell_type": "code",
      "metadata": {
        "colab": {
          "base_uri": "https://localhost:8080/"
        },
        "id": "C0YtO5QtXVIq",
        "outputId": "98f0555b-8c30-4e35-ae0c-7b1b55d6cdc8"
      },
      "source": [
        "type(missing_percentages)"
      ],
      "execution_count": 16,
      "outputs": [
        {
          "output_type": "execute_result",
          "data": {
            "text/plain": [
              "pandas.core.series.Series"
            ]
          },
          "metadata": {},
          "execution_count": 16
        }
      ]
    },
    {
      "cell_type": "code",
      "metadata": {
        "colab": {
          "base_uri": "https://localhost:8080/",
          "height": 282
        },
        "id": "846mNIKYWGcT",
        "outputId": "ec171af1-f4fe-4b7b-bf4b-d8b0a6a8899a"
      },
      "source": [
        "missing_percentages[missing_percentages != 0].plot(kind='barh')"
      ],
      "execution_count": 17,
      "outputs": [
        {
          "output_type": "execute_result",
          "data": {
            "text/plain": [
              "<matplotlib.axes._subplots.AxesSubplot at 0x7f65fc98c910>"
            ]
          },
          "metadata": {},
          "execution_count": 17
        },
        {
          "output_type": "display_data",
          "data": {
            "image/png": "[encoded data removed]",
            "text/plain": [
              "<Figure size 432x288 with 1 Axes>"
            ]
          },
          "metadata": {
            "needs_background": "light"
          }
        }
      ]
    },
    {
      "cell_type": "markdown",
      "metadata": {
        "id": "gMfHoFT0YTDm"
      },
      "source": [
        "Remove columns that you don't want to use"
      ]
    },
    {
      "cell_type": "markdown",
      "metadata": {
        "id": "hROCSX-CN5MB"
      },
      "source": [
        "## Exploratory Data Analysis And Visualization\n",
        "\n",
        "Columns we'll analyze:\n",
        "1. City\n",
        "2. Start Time\n",
        "3. Start Lat, Start Lng\n",
        "4. Temperature\n",
        "5. Weather Condition"
      ]
    },
    {
      "cell_type": "code",
      "metadata": {
        "colab": {
          "base_uri": "https://localhost:8080/"
        },
        "id": "MiW1RwHDWGXO",
        "outputId": "b5d7256f-ec1d-4a6b-8934-2c6148a149ea"
      },
      "source": [
        "df.columns"
      ],
      "execution_count": 18,
      "outputs": [
        {
          "output_type": "execute_result",
          "data": {
            "text/plain": [
              "Index(['ID', 'Severity', 'Start_Time', 'End_Time', 'Start_Lat', 'Start_Lng',\n",
              "       'End_Lat', 'End_Lng', 'Distance(mi)', 'Description', 'Number', 'Street',\n",
              "       'Side', 'City', 'County', 'State', 'Zipcode', 'Country', 'Timezone',\n",
              "       'Airport_Code', 'Weather_Timestamp', 'Temperature(F)', 'Wind_Chill(F)',\n",
              "       'Humidity(%)', 'Pressure(in)', 'Visibility(mi)', 'Wind_Direction',\n",
              "       'Wind_Speed(mph)', 'Precipitation(in)', 'Weather_Condition', 'Amenity',\n",
              "       'Bump', 'Crossing', 'Give_Way', 'Junction', 'No_Exit', 'Railway',\n",
              "       'Roundabout', 'Station', 'Stop', 'Traffic_Calming', 'Traffic_Signal',\n",
              "       'Turning_Loop', 'Sunrise_Sunset', 'Civil_Twilight', 'Nautical_Twilight',\n",
              "       'Astronomical_Twilight'],\n",
              "      dtype='object')"
            ]
          },
          "metadata": {},
          "execution_count": 18
        }
      ]
    },
    {
      "cell_type": "markdown",
      "metadata": {
        "id": "WxrsyKLkipFy"
      },
      "source": [
        "### City"
      ]
    },
    {
      "cell_type": "code",
      "metadata": {
        "id": "jK8u2B4IOCGS",
        "colab": {
          "base_uri": "https://localhost:8080/"
        },
        "outputId": "ea63d25d-3e39-444f-c788-d51d8b36bb7f"
      },
      "source": [
        "df.City"
      ],
      "execution_count": 19,
      "outputs": [
        {
          "output_type": "execute_result",
          "data": {
            "text/plain": [
              "0               Dublin\n",
              "1               Dayton\n",
              "2           Cincinnati\n",
              "3           Cincinnati\n",
              "4                Akron\n",
              "              ...     \n",
              "1516059      Riverside\n",
              "1516060      San Diego\n",
              "1516061         Orange\n",
              "1516062    Culver City\n",
              "1516063       Highland\n",
              "Name: City, Length: 1516064, dtype: object"
            ]
          },
          "metadata": {},
          "execution_count": 19
        }
      ]
    },
    {
      "cell_type": "code",
      "metadata": {
        "id": "3fCgBBneOEGL",
        "colab": {
          "base_uri": "https://localhost:8080/"
        },
        "outputId": "477423c1-8462-4cc1-ea5a-a4454cd941e3"
      },
      "source": [
        "cities = df.City.unique()\n",
        "len(cities)"
      ],
      "execution_count": 20,
      "outputs": [
        {
          "output_type": "execute_result",
          "data": {
            "text/plain": [
              "10658"
            ]
          },
          "metadata": {},
          "execution_count": 20
        }
      ]
    },
    {
      "cell_type": "code",
      "metadata": {
        "id": "mR70JAl8OEEJ",
        "colab": {
          "base_uri": "https://localhost:8080/"
        },
        "outputId": "52de5452-ac9d-40f8-f8a9-09cf57fe915c"
      },
      "source": [
        "cities_by_accident = df.City.value_counts()\n",
        "cities_by_accident"
      ],
      "execution_count": 21,
      "outputs": [
        {
          "output_type": "execute_result",
          "data": {
            "text/plain": [
              "Los Angeles      39984\n",
              "Miami            36233\n",
              "Charlotte        22203\n",
              "Houston          20843\n",
              "Dallas           19497\n",
              "                 ...  \n",
              "Cripple Creek        1\n",
              "Amber                1\n",
              "Tuscola              1\n",
              "Springport           1\n",
              "Idaho City           1\n",
              "Name: City, Length: 10657, dtype: int64"
            ]
          },
          "metadata": {},
          "execution_count": 21
        }
      ]
    },
    {
      "cell_type": "code",
      "metadata": {
        "id": "o1xlAObiOEBP",
        "colab": {
          "base_uri": "https://localhost:8080/"
        },
        "outputId": "d2556d91-2814-46da-db71-023b3e9b05c7"
      },
      "source": [
        "cities_by_accident[:20]"
      ],
      "execution_count": 22,
      "outputs": [
        {
          "output_type": "execute_result",
          "data": {
            "text/plain": [
              "Los Angeles     39984\n",
              "Miami           36233\n",
              "Charlotte       22203\n",
              "Houston         20843\n",
              "Dallas          19497\n",
              "Sacramento      18431\n",
              "Orlando         16169\n",
              "Portland        14805\n",
              "San Diego       14090\n",
              "Minneapolis     12653\n",
              "Atlanta         11854\n",
              "Chicago         11507\n",
              "Saint Paul      10084\n",
              "Phoenix          9934\n",
              "Raleigh          9516\n",
              "San Jose         9362\n",
              "Richmond         8472\n",
              "Nashville        8381\n",
              "Riverside        8201\n",
              "Jacksonville     7815\n",
              "Name: City, dtype: int64"
            ]
          },
          "metadata": {},
          "execution_count": 22
        }
      ]
    },
    {
      "cell_type": "code",
      "metadata": {
        "id": "_A16ynrHOD-v",
        "colab": {
          "base_uri": "https://localhost:8080/"
        },
        "outputId": "5f711b0d-f6ec-43ad-866c-09a04a9f8f8c"
      },
      "source": [
        "'New York' in df.City"
      ],
      "execution_count": 23,
      "outputs": [
        {
          "output_type": "execute_result",
          "data": {
            "text/plain": [
              "False"
            ]
          },
          "metadata": {},
          "execution_count": 23
        }
      ]
    },
    {
      "cell_type": "code",
      "metadata": {
        "colab": {
          "base_uri": "https://localhost:8080/"
        },
        "id": "4edMq8mhcVy3",
        "outputId": "5c74ec07-c226-4596-d7c8-d6b04751a859"
      },
      "source": [
        "'NY' in df.State"
      ],
      "execution_count": 24,
      "outputs": [
        {
          "output_type": "execute_result",
          "data": {
            "text/plain": [
              "False"
            ]
          },
          "metadata": {},
          "execution_count": 24
        }
      ]
    },
    {
      "cell_type": "code",
      "metadata": {
        "colab": {
          "base_uri": "https://localhost:8080/",
          "height": 282
        },
        "id": "H_6j0gWhcVl3",
        "outputId": "046eddb5-e2df-41b8-f757-f822e03a3cbc"
      },
      "source": [
        "cities_by_accident[:20].plot(kind='barh')"
      ],
      "execution_count": 25,
      "outputs": [
        {
          "output_type": "execute_result",
          "data": {
            "text/plain": [
              "<matplotlib.axes._subplots.AxesSubplot at 0x7f65fc418850>"
            ]
          },
          "metadata": {},
          "execution_count": 25
        },
        {
          "output_type": "display_data",
          "data": {
            "image/png": "[encoded data removed]",
            "text/plain": [
              "<Figure size 432x288 with 1 Axes>"
            ]
          },
          "metadata": {
            "needs_background": "light"
          }
        }
      ]
    },
    {
      "cell_type": "code",
      "metadata": {
        "id": "ard-F-0OccHU"
      },
      "source": [
        "import seaborn as sns\n",
        "sns.set_style('darkgrid')"
      ],
      "execution_count": 27,
      "outputs": []
    },
    {
      "cell_type": "code",
      "metadata": {
        "colab": {
          "base_uri": "https://localhost:8080/",
          "height": 300
        },
        "id": "vZKvuywecbz6",
        "outputId": "27dcb6a7-6253-4d6a-a6ff-4e985c58206c"
      },
      "source": [
        "sns.histplot(cities_by_accident, log_scale=True)"
      ],
      "execution_count": 28,
      "outputs": [
        {
          "output_type": "execute_result",
          "data": {
            "text/plain": [
              "<matplotlib.axes._subplots.AxesSubplot at 0x7f65ee129650>"
            ]
          },
          "metadata": {},
          "execution_count": 28
        },
        {
          "output_type": "display_data",
          "data": {
            "image/png": "[encoded data removed]",
            "text/plain": [
              "<Figure size 432x288 with 1 Axes>"
            ]
          },
          "metadata": {}
        }
      ]
    },
    {
      "cell_type": "code",
      "metadata": {
        "colab": {
          "base_uri": "https://localhost:8080/"
        },
        "id": "HFzULKgQgvns",
        "outputId": "9bda2280-ed02-4c5b-d9d7-bf7d66e17405"
      },
      "source": [
        "cities_by_accident[cities_by_accident == 1]"
      ],
      "execution_count": 29,
      "outputs": [
        {
          "output_type": "execute_result",
          "data": {
            "text/plain": [
              "Leasburg         1\n",
              "Sykeston         1\n",
              "Provo-Orem       1\n",
              "Mount Healthy    1\n",
              "Highland Home    1\n",
              "                ..\n",
              "Cripple Creek    1\n",
              "Amber            1\n",
              "Tuscola          1\n",
              "Springport       1\n",
              "Idaho City       1\n",
              "Name: City, Length: 1167, dtype: int64"
            ]
          },
          "metadata": {},
          "execution_count": 29
        }
      ]
    },
    {
      "cell_type": "markdown",
      "metadata": {
        "id": "iaONCCbUicWX"
      },
      "source": [
        "### Start Time"
      ]
    },
    {
      "cell_type": "code",
      "metadata": {
        "colab": {
          "base_uri": "https://localhost:8080/"
        },
        "id": "bKoaSQeugvlP",
        "outputId": "a4ddb1c5-a841-4c56-8c4f-ca3d9f6990ee"
      },
      "source": [
        "df.Start_Time"
      ],
      "execution_count": 30,
      "outputs": [
        {
          "output_type": "execute_result",
          "data": {
            "text/plain": [
              "0          2016-02-08 00:37:08\n",
              "1          2016-02-08 05:56:20\n",
              "2          2016-02-08 06:15:39\n",
              "3          2016-02-08 06:15:39\n",
              "4          2016-02-08 06:51:45\n",
              "                  ...         \n",
              "1516059    2019-08-23 18:03:25\n",
              "1516060    2019-08-23 19:11:30\n",
              "1516061    2019-08-23 19:00:21\n",
              "1516062    2019-08-23 19:00:21\n",
              "1516063    2019-08-23 18:52:06\n",
              "Name: Start_Time, Length: 1516064, dtype: object"
            ]
          },
          "metadata": {},
          "execution_count": 30
        }
      ]
    },
    {
      "cell_type": "code",
      "metadata": {
        "id": "RQIdNrxEhx3b"
      },
      "source": [
        "df.Start_Time = pd.to_datetime(df.Start_Time)\n"
      ],
      "execution_count": 31,
      "outputs": []
    },
    {
      "cell_type": "code",
      "metadata": {
        "colab": {
          "base_uri": "https://localhost:8080/"
        },
        "id": "xdD0FGNxhx02",
        "outputId": "b47c58bf-cfea-478b-a118-79fa04d5b73f"
      },
      "source": [
        "df.Start_Time.dt.hour"
      ],
      "execution_count": 32,
      "outputs": [
        {
          "output_type": "execute_result",
          "data": {
            "text/plain": [
              "0           0\n",
              "1           5\n",
              "2           6\n",
              "3           6\n",
              "4           6\n",
              "           ..\n",
              "1516059    18\n",
              "1516060    19\n",
              "1516061    19\n",
              "1516062    19\n",
              "1516063    18\n",
              "Name: Start_Time, Length: 1516064, dtype: int64"
            ]
          },
          "metadata": {},
          "execution_count": 32
        }
      ]
    },
    {
      "cell_type": "code",
      "metadata": {
        "colab": {
          "base_uri": "https://localhost:8080/",
          "height": 352
        },
        "id": "nldnDs7Aj6fe",
        "outputId": "c854403c-ef7e-4506-e3f2-d13716cd8764"
      },
      "source": [
        "sns.distplot(df.Start_Time.dt.hour, bins=24, kde=False, norm_hist=True)"
      ],
      "execution_count": 33,
      "outputs": [
        {
          "output_type": "stream",
          "name": "stderr",
          "text": [
            "/usr/local/lib/python3.7/dist-packages/seaborn/distributions.py:2619: FutureWarning: `distplot` is a deprecated function and will be removed in a future version. Please adapt your code to use either `displot` (a figure-level function with similar flexibility) or `histplot` (an axes-level function for histograms).\n",
            "  warnings.warn(msg, FutureWarning)\n"
          ]
        },
        {
          "output_type": "execute_result",
          "data": {
            "text/plain": [
              "<matplotlib.axes._subplots.AxesSubplot at 0x7f65ed64d390>"
            ]
          },
          "metadata": {},
          "execution_count": 33
        },
        {
          "output_type": "display_data",
          "data": {
            "image/png": "[encoded data removed]",
            "text/plain": [
              "<Figure size 432x288 with 1 Axes>"
            ]
          },
          "metadata": {}
        }
      ]
    },
    {
      "cell_type": "markdown",
      "metadata": {
        "id": "dGvSIHhjlqcb"
      },
      "source": [
        "* A high percentage of accidents occur between 1PM to 6PM.\n",
        "* Next highest percentage is 6AM to 9AM."
      ]
    },
    {
      "cell_type": "code",
      "metadata": {
        "id": "GDE-EKosj6c1"
      },
      "source": [
        ""
      ],
      "execution_count": null,
      "outputs": []
    },
    {
      "cell_type": "code",
      "metadata": {
        "id": "H5EMJG-ij6aa"
      },
      "source": [
        ""
      ],
      "execution_count": null,
      "outputs": []
    },
    {
      "cell_type": "markdown",
      "metadata": {
        "id": "aQxbOwT7OE9f"
      },
      "source": [
        "## Ask And Answer Questions\n",
        "\n",
        "\n",
        "\n",
        "1.   Are there more accidents in warmer or colder areas?\n",
        "2.   Which 5 states has the highest number of accidents? How about per capita?\n",
        "3. Does New York show up in the data? If yes, why is the count  lower if it the most populated city.\n",
        "4. Among the top 100 cities in number of accidents, which states do they belong to most frequently.\n",
        "5. What time of the day are accidents most frequent in? ANSWERED\n",
        "6. Which days of the week have the most accidents?\n",
        "7. Which months have the most accidents?\n",
        "8. What is the trend of accidents year over year (decreasing/increasing)\n",
        "9. When is accidents per unit of traffic the highest.?\n",
        "\n",
        "\n"
      ]
    },
    {
      "cell_type": "code",
      "metadata": {
        "id": "-ZI3xY4aOLFB",
        "colab": {
          "base_uri": "https://localhost:8080/",
          "height": 352
        },
        "outputId": "62b188de-ee0f-496c-dce0-2d40f1ab0c2b"
      },
      "source": [
        "sns.distplot(df.Start_Time.dt.dayofweek, bins=7, kde=False, norm_hist=True)"
      ],
      "execution_count": 43,
      "outputs": [
        {
          "output_type": "stream",
          "name": "stderr",
          "text": [
            "/usr/local/lib/python3.7/dist-packages/seaborn/distributions.py:2619: FutureWarning: `distplot` is a deprecated function and will be removed in a future version. Please adapt your code to use either `displot` (a figure-level function with similar flexibility) or `histplot` (an axes-level function for histograms).\n",
            "  warnings.warn(msg, FutureWarning)\n"
          ]
        },
        {
          "output_type": "execute_result",
          "data": {
            "text/plain": [
              "<matplotlib.axes._subplots.AxesSubplot at 0x7f65e8b01f50>"
            ]
          },
          "metadata": {},
          "execution_count": 43
        },
        {
          "output_type": "display_data",
          "data": {
            "image/png": "[encoded data removed]",
            "text/plain": [
              "<Figure size 432x288 with 1 Axes>"
            ]
          },
          "metadata": {}
        }
      ]
    },
    {
      "cell_type": "markdown",
      "metadata": {
        "id": "W1oWZnM-9oMZ"
      },
      "source": [
        "Is the distribution of accidents by hour the same on weekends as on weekdays?"
      ]
    },
    {
      "cell_type": "code",
      "metadata": {
        "id": "vwOwz7ZwOPiN",
        "colab": {
          "base_uri": "https://localhost:8080/",
          "height": 352
        },
        "outputId": "6ac27550-a23e-4b5a-ae17-770f4736c608"
      },
      "source": [
        "sundays_start_time = df.Start_Time[df.Start_Time.dt.dayofweek == 6]\n",
        "sns.distplot(sundays_start_time.dt.hour, bins=24, kde=False, norm_hist=True)"
      ],
      "execution_count": 49,
      "outputs": [
        {
          "output_type": "stream",
          "name": "stderr",
          "text": [
            "/usr/local/lib/python3.7/dist-packages/seaborn/distributions.py:2619: FutureWarning: `distplot` is a deprecated function and will be removed in a future version. Please adapt your code to use either `displot` (a figure-level function with similar flexibility) or `histplot` (an axes-level function for histograms).\n",
            "  warnings.warn(msg, FutureWarning)\n"
          ]
        },
        {
          "output_type": "execute_result",
          "data": {
            "text/plain": [
              "<matplotlib.axes._subplots.AxesSubplot at 0x7f65e8b36310>"
            ]
          },
          "metadata": {},
          "execution_count": 49
        },
        {
          "output_type": "display_data",
          "data": {
            "image/png": "[encoded data removed]",
            "text/plain": [
              "<Figure size 432x288 with 1 Axes>"
            ]
          },
          "metadata": {}
        }
      ]
    },
    {
      "cell_type": "code",
      "metadata": {
        "id": "2IAcQOe-OPZF",
        "colab": {
          "base_uri": "https://localhost:8080/",
          "height": 354
        },
        "outputId": "c7c9a922-2bd2-4dcf-8186-392ab191e466"
      },
      "source": [
        "mondays_start_time = df.Start_Time[df.Start_Time.dt.dayofweek == 0]\n",
        "sns.distplot(mondays_start_time.dt.hour, bins=24, kde=False, norm_hist=True)"
      ],
      "execution_count": 50,
      "outputs": [
        {
          "output_type": "stream",
          "name": "stderr",
          "text": [
            "/usr/local/lib/python3.7/dist-packages/seaborn/distributions.py:2619: FutureWarning: `distplot` is a deprecated function and will be removed in a future version. Please adapt your code to use either `displot` (a figure-level function with similar flexibility) or `histplot` (an axes-level function for histograms).\n",
            "  warnings.warn(msg, FutureWarning)\n"
          ]
        },
        {
          "output_type": "execute_result",
          "data": {
            "text/plain": [
              "<matplotlib.axes._subplots.AxesSubplot at 0x7f65e8b53d90>"
            ]
          },
          "metadata": {},
          "execution_count": 50
        },
        {
          "output_type": "display_data",
          "data": {
            "image/png": "[encoded data removed]",
            "text/plain": [
              "<Figure size 432x288 with 1 Axes>"
            ]
          },
          "metadata": {}
        }
      ]
    },
    {
      "cell_type": "markdown",
      "metadata": {
        "id": "GCstftRo__JQ"
      },
      "source": [
        "On sundays, the peek occurs between 1 pm and 11 pm, unlike weekdays"
      ]
    },
    {
      "cell_type": "code",
      "metadata": {
        "id": "7qW5IRNgOPWj",
        "colab": {
          "base_uri": "https://localhost:8080/",
          "height": 352
        },
        "outputId": "388d2811-ed5c-4c06-f92f-43530248df5d"
      },
      "source": [
        "df_2018 = df[df.Start_Time.dt.year == 2018]\n",
        "sns.distplot(df_2018.Start_Time.dt.month, bins=12, kde=False, norm_hist=True)"
      ],
      "execution_count": 66,
      "outputs": [
        {
          "output_type": "stream",
          "name": "stderr",
          "text": [
            "/usr/local/lib/python3.7/dist-packages/seaborn/distributions.py:2619: FutureWarning: `distplot` is a deprecated function and will be removed in a future version. Please adapt your code to use either `displot` (a figure-level function with similar flexibility) or `histplot` (an axes-level function for histograms).\n",
            "  warnings.warn(msg, FutureWarning)\n"
          ]
        },
        {
          "output_type": "execute_result",
          "data": {
            "text/plain": [
              "<matplotlib.axes._subplots.AxesSubplot at 0x7f65e823ae50>"
            ]
          },
          "metadata": {},
          "execution_count": 66
        },
        {
          "output_type": "display_data",
          "data": {
            "image/png": "[encoded data removed]",
            "text/plain": [
              "<Figure size 432x288 with 1 Axes>"
            ]
          },
          "metadata": {}
        }
      ]
    },
    {
      "cell_type": "markdown",
      "metadata": {
        "id": "gfyX3UFPBBA5"
      },
      "source": [
        "Can you explain the month-wise trend in accidents?\n",
        "\n",
        "- Much data is missing for 2016 and 2020."
      ]
    },
    {
      "cell_type": "markdown",
      "metadata": {
        "id": "LKt3MnlsDcB6"
      },
      "source": [
        "### Start Latitude & Longitude"
      ]
    },
    {
      "cell_type": "code",
      "metadata": {
        "colab": {
          "base_uri": "https://localhost:8080/"
        },
        "id": "giP9FtsZ_7e9",
        "outputId": "21d5934f-3187-41a7-f8e4-a2fdd7cfa5aa"
      },
      "source": [
        "df.Start_Lat"
      ],
      "execution_count": 68,
      "outputs": [
        {
          "output_type": "execute_result",
          "data": {
            "text/plain": [
              "0          40.10891\n",
              "1          39.86542\n",
              "2          39.10266\n",
              "3          39.10148\n",
              "4          41.06213\n",
              "             ...   \n",
              "1516059    34.00248\n",
              "1516060    32.76696\n",
              "1516061    33.77545\n",
              "1516062    33.99246\n",
              "1516063    34.13393\n",
              "Name: Start_Lat, Length: 1516064, dtype: float64"
            ]
          },
          "metadata": {},
          "execution_count": 68
        }
      ]
    },
    {
      "cell_type": "code",
      "metadata": {
        "colab": {
          "base_uri": "https://localhost:8080/"
        },
        "id": "f_981X8B_7cD",
        "outputId": "9d2ef9e3-37c5-4a70-8cf0-c240ef0ba079"
      },
      "source": [
        "df.Start_Lng"
      ],
      "execution_count": 69,
      "outputs": [
        {
          "output_type": "execute_result",
          "data": {
            "text/plain": [
              "0          -83.09286\n",
              "1          -84.06280\n",
              "2          -84.52468\n",
              "3          -84.52341\n",
              "4          -81.53784\n",
              "             ...    \n",
              "1516059   -117.37936\n",
              "1516060   -117.14806\n",
              "1516061   -117.84779\n",
              "1516062   -118.40302\n",
              "1516063   -117.23092\n",
              "Name: Start_Lng, Length: 1516064, dtype: float64"
            ]
          },
          "metadata": {},
          "execution_count": 69
        }
      ]
    },
    {
      "cell_type": "code",
      "metadata": {
        "colab": {
          "base_uri": "https://localhost:8080/",
          "height": 299
        },
        "id": "dQWoPF8Y_7aI",
        "outputId": "83bad960-7fab-4386-c377-c0b3fa7b852d"
      },
      "source": [
        "sample_df = df.sample(int(0.1 * len(df)))\n",
        "sns.scatterplot(x=sample_df.Start_Lng, y=sample_df.Start_Lat, size=0.001)"
      ],
      "execution_count": 71,
      "outputs": [
        {
          "output_type": "execute_result",
          "data": {
            "text/plain": [
              "<matplotlib.axes._subplots.AxesSubplot at 0x7f65e824f3d0>"
            ]
          },
          "metadata": {},
          "execution_count": 71
        },
        {
          "output_type": "display_data",
          "data": {
            "image/png": "[encoded data removed]",
            "text/plain": [
              "<Figure size 432x288 with 1 Axes>"
            ]
          },
          "metadata": {}
        }
      ]
    },
    {
      "cell_type": "code",
      "metadata": {
        "id": "ad1_Y2LXDrxj"
      },
      "source": [
        "import folium"
      ],
      "execution_count": 74,
      "outputs": []
    },
    {
      "cell_type": "code",
      "metadata": {
        "colab": {
          "base_uri": "https://localhost:8080/"
        },
        "id": "Dl3S-K59Ft_i",
        "outputId": "068459c1-11c7-4bd8-bf22-060785966c3d"
      },
      "source": [
        "lat, lon = df.Start_Lat[0], df.Start_Lng[0]\n",
        "lat, lon"
      ],
      "execution_count": 78,
      "outputs": [
        {
          "output_type": "execute_result",
          "data": {
            "text/plain": [
              "(40.108909999999995, -83.09286)"
            ]
          },
          "metadata": {},
          "execution_count": 78
        }
      ]
    },
    {
      "cell_type": "code",
      "metadata": {
        "colab": {
          "base_uri": "https://localhost:8080/"
        },
        "id": "9zzwch2MGjuh",
        "outputId": "3b098d4e-a999-4d8c-b3c4-9f7607e407ea"
      },
      "source": [
        "for x in df[['Start_Lat', 'Start_Lng']].sample(100).iteritems():\n",
        "  print(x[1])"
      ],
      "execution_count": 85,
      "outputs": [
        {
          "output_type": "stream",
          "name": "stdout",
          "text": [
            "1164329    33.729020\n",
            "210198     34.052010\n",
            "1132600    33.935258\n",
            "1098760    30.498150\n",
            "1022626    32.853920\n",
            "             ...    \n",
            "1103398    45.612800\n",
            "571136     34.209424\n",
            "1284028    34.151050\n",
            "1058863    33.884622\n",
            "1454150    39.814330\n",
            "Name: Start_Lat, Length: 100, dtype: float64\n",
            "1164329    -84.762190\n",
            "210198    -118.259820\n",
            "1132600   -118.039354\n",
            "1098760    -97.775600\n",
            "1022626    -96.645430\n",
            "              ...    \n",
            "1103398   -122.678230\n",
            "571136     -82.176037\n",
            "1284028   -118.089600\n",
            "1058863   -118.352704\n",
            "1454150    -75.261410\n",
            "Name: Start_Lng, Length: 100, dtype: float64\n"
          ]
        }
      ]
    },
    {
      "cell_type": "code",
      "metadata": {
        "colab": {
          "base_uri": "https://localhost:8080/"
        },
        "id": "yyTs997FIHWe",
        "outputId": "fa70fede-da5a-4d0b-d661-8e76e4eef713"
      },
      "source": [
        "zip(list(df.Start_Lat), list(df.Start_Lng))"
      ],
      "execution_count": 88,
      "outputs": [
        {
          "output_type": "execute_result",
          "data": {
            "text/plain": [
              "<zip at 0x7f65e610b460>"
            ]
          },
          "metadata": {},
          "execution_count": 88
        }
      ]
    },
    {
      "cell_type": "code",
      "metadata": {
        "id": "coQEYaV4I0oC"
      },
      "source": [
        "from folium.plugins import HeatMap"
      ],
      "execution_count": 90,
      "outputs": []
    },
    {
      "cell_type": "code",
      "metadata": {
        "id": "6NNVZw17JJqq"
      },
      "source": [
        "sample_df = df.sample(int(0.001 * len(df)))\n",
        "lat_lon_pairs = list(zip(list(sample_df.Start_Lat), list(sample_df.Start_Lng)))"
      ],
      "execution_count": 108,
      "outputs": []
    },
    {
      "cell_type": "code",
      "metadata": {
        "colab": {
          "base_uri": "https://localhost:8080/",
          "height": 730
        },
        "id": "sOmMVZkvDrvs",
        "outputId": "18da64fe-f12a-4188-db7d-71b99c38748c"
      },
      "source": [
        "map = folium.Map()\n",
        "HeatMap(lat_lon_pairs).add_to(map)\n",
        "map"
      ],
      "execution_count": 109,
      "outputs": [
        {
          "output_type": "execute_result",
          "data": {
            "text/html": [
              "<div style=\"width:100%;\"><div style=\"position:relative;width:100%;height:0;padding-bottom:60%;\"><span style=\"color:#565656\">Make this Notebook Trusted to load map: File -> Trust Notebook</span><iframe src=\"about:blank\" style=\"position:absolute;width:100%;height:100%;left:0;top:0;border:none !important;\" data-html=%3C%21DOCTYPE%20html%3E%0A%3Chead%3E%20%20%20%20%0A%20%20%20%20%3Cmeta%20http-equiv%3D%22content-type%22%20content%3D%22text/html%3B%20charset%3DUTF-8%22%20/%3E%0A%20%20%20%20%3Cscript%3EL_PREFER_CANVAS%3Dfalse%3B%20L_NO_TOUCH%3Dfalse%3B%20L_DISABLE_3D%3Dfalse%3B%3C/script%3E%0A%20%20%20%20%3Cscript%20src%3D%22https%3A//cdn.jsdelivr.net/npm/leaflet%401.4.0/dist/leaflet.js%22%3E%3C/script%3E%0A%20%20%20%20%3Cscript%20src%3D%22https%3A//code.jquery.com/jquery-1.12.4.min.js%22%3E%3C/script%3E%0A%20%20%20%20%3Cscript%20src%3D%22https%3A//maxcdn.bootstrapcdn.com/bootstrap/3.2.0/js/bootstrap.min.js%22%3E%3C/script%3E%0A%20%20%20%20%3Cscript%20src%3D%22https%3A//cdnjs.cloudflare.com/ajax/libs/Leaflet.awesome-markers/2.0.2/leaflet.awesome-markers.js%22%3E%3C/script%3E%0A%20%20%20%20%3Clink%20rel%3D%22stylesheet%22%20href%3D%22https%3A//cdn.jsdelivr.net/npm/leaflet%401.4.0/dist/leaflet.css%22/%3E%0A%20%20%20%20%3Clink%20rel%3D%22stylesheet%22%20href%3D%22https%3A//maxcdn.bootstrapcdn.com/bootstrap/3.2.0/css/bootstrap.min.css%22/%3E%0A%20%20%20%20%3Clink%20rel%3D%22stylesheet%22%20href%3D%22https%3A//maxcdn.bootstrapcdn.com/bootstrap/3.2.0/css/bootstrap-theme.min.css%22/%3E%0A%20%20%20%20%3Clink%20rel%3D%22stylesheet%22%20href%3D%22https%3A//maxcdn.bootstrapcdn.com/font-awesome/4.6.3/css/font-awesome.min.css%22/%3E%0A%20%20%20%20%3Clink%20rel%3D%22stylesheet%22%20href%3D%22https%3A//cdnjs.cloudflare.com/ajax/libs/Leaflet.awesome-markers/2.0.2/leaflet.awesome-markers.css%22/%3E%0A%20%20%20%20%3Clink%20rel%3D%22stylesheet%22%20href%3D%22https%3A//rawcdn.githack.com/python-visualization/folium/master/folium/templates/leaflet.awesome.rotate.css%22/%3E%0A%20%20%20%20%3Cstyle%3Ehtml%2C%20body%20%7Bwidth%3A%20100%25%3Bheight%3A%20100%25%3Bmargin%3A%200%3Bpadding%3A%200%3B%7D%3C/style%3E%0A%20%20%20%20%3Cstyle%3E%23map%20%7Bposition%3Aabsolute%3Btop%3A0%3Bbottom%3A0%3Bright%3A0%3Bleft%3A0%3B%7D%3C/style%3E%0A%20%20%20%20%0A%20%20%20%20%3Cmeta%20name%3D%22viewport%22%20content%3D%22width%3Ddevice-width%2C%0A%20%20%20%20%20%20%20%20initial-scale%3D1.0%2C%20maximum-scale%3D1.0%2C%20user-scalable%3Dno%22%20/%3E%0A%20%20%20%20%3Cstyle%3E%23map_0bd62aa26bc6427e88c5c404de987557%20%7B%0A%20%20%20%20%20%20%20%20position%3A%20relative%3B%0A%20%20%20%20%20%20%20%20width%3A%20100.0%25%3B%0A%20%20%20%20%20%20%20%20height%3A%20100.0%25%3B%0A%20%20%20%20%20%20%20%20left%3A%200.0%25%3B%0A%20%20%20%20%20%20%20%20top%3A%200.0%25%3B%0A%20%20%20%20%20%20%20%20%7D%0A%20%20%20%20%3C/style%3E%0A%20%20%20%20%3Cscript%20src%3D%22https%3A//leaflet.github.io/Leaflet.heat/dist/leaflet-heat.js%22%3E%3C/script%3E%0A%3C/head%3E%0A%3Cbody%3E%20%20%20%20%0A%20%20%20%20%0A%20%20%20%20%3Cdiv%20class%3D%22folium-map%22%20id%3D%22map_0bd62aa26bc6427e88c5c404de987557%22%20%3E%3C/div%3E%0A%3C/body%3E%0A%3Cscript%3E%20%20%20%20%0A%20%20%20%20%0A%20%20%20%20%0A%20%20%20%20%20%20%20%20var%20bounds%20%3D%20null%3B%0A%20%20%20%20%0A%0A%20%20%20%20var%20map_0bd62aa26bc6427e88c5c404de987557%20%3D%20L.map%28%0A%20%20%20%20%20%20%20%20%27map_0bd62aa26bc6427e88c5c404de987557%27%2C%20%7B%0A%20%20%20%20%20%20%20%20center%3A%20%5B0%2C%200%5D%2C%0A%20%20%20%20%20%20%20%20zoom%3A%201%2C%0A%20%20%20%20%20%20%20%20maxBounds%3A%20bounds%2C%0A%20%20%20%20%20%20%20%20layers%3A%20%5B%5D%2C%0A%20%20%20%20%20%20%20%20worldCopyJump%3A%20false%2C%0A%20%20%20%20%20%20%20%20crs%3A%20L.CRS.EPSG3857%2C%0A%20%20%20%20%20%20%20%20zoomControl%3A%20true%2C%0A%20%20%20%20%20%20%20%20%7D%29%3B%0A%0A%0A%20%20%20%20%0A%20%20%20%20var%20tile_layer_2f7e30968e8a4f9586dbcc5e433740bc%20%3D%20L.tileLayer%28%0A%20%20%20%20%20%20%20%20%27https%3A//%7Bs%7D.tile.openstreetmap.org/%7Bz%7D/%7Bx%7D/%7By%7D.png%27%2C%0A%20%20%20%20%20%20%20%20%7B%0A%20%20%20%20%20%20%20%20%22attribution%22%3A%20null%2C%0A%20%20%20%20%20%20%20%20%22detectRetina%22%3A%20false%2C%0A%20%20%20%20%20%20%20%20%22maxNativeZoom%22%3A%2018%2C%0A%20%20%20%20%20%20%20%20%22maxZoom%22%3A%2018%2C%0A%20%20%20%20%20%20%20%20%22minZoom%22%3A%200%2C%0A%20%20%20%20%20%20%20%20%22noWrap%22%3A%20false%2C%0A%20%20%20%20%20%20%20%20%22opacity%22%3A%201%2C%0A%20%20%20%20%20%20%20%20%22subdomains%22%3A%20%22abc%22%2C%0A%20%20%20%20%20%20%20%20%22tms%22%3A%20false%0A%7D%29.addTo%28map_0bd62aa26bc6427e88c5c404de987557%29%3B%0A%20%20%20%20%0A%20%20%20%20%20%20%20%20%20%20%20%20var%20heat_map_205e8d41ec454139a34ab4eb0b894c75%20%3D%20L.heatLayer%28%0A%20%20%20%20%20%20%20%20%20%20%20%20%20%20%20%20%5B%5B33.851290000000006%2C%20-117.875844%5D%2C%20%5B40.328297%2C%20-74.691231%5D%2C%20%5B43.19392%2C%20-77.65981%5D%2C%20%5B27.93836%2C%20-82.73026%5D%2C%20%5B33.831559999999996%2C%20-118.28168799999999%5D%2C%20%5B31.9868%2C%20-106.33308000000001%5D%2C%20%5B46.906975%2C%20-93.61393299999999%5D%2C%20%5B34.2659%2C%20-118.472252%5D%2C%20%5B37.726353%2C%20-122.44598500000001%5D%2C%20%5B25.925466%2C%20-80.292271%5D%2C%20%5B37.356284%2C%20-77.399748%5D%2C%20%5B37.937899%2C%20-122.050367%5D%2C%20%5B38.908799%2C%20-78.031436%5D%2C%20%5B33.940984%2C%20-118.09658400000001%5D%2C%20%5B26.142525%2C%20-80.169749%5D%2C%20%5B41.38946%2C%20-82.16136999999999%5D%2C%20%5B42.427603000000005%2C%20-123.192356%5D%2C%20%5B36.403812%2C%20-121.909833%5D%2C%20%5B37.68874%2C%20-122.13533000000001%5D%2C%20%5B34.541344%2C%20-77.965158%5D%2C%20%5B33.233905%2C%20-87.54261600000001%5D%2C%20%5B32.90287%2C%20-96.72197%5D%2C%20%5B42.19724%2C%20-88.00916%5D%2C%20%5B32.90404%2C%20-80.703517%5D%2C%20%5B34.072111%2C%20-117.913223%5D%2C%20%5B43.017257%2C%20-91.198832%5D%2C%20%5B33.943272%2C%20-118.25410600000001%5D%2C%20%5B38.60606%2C%20-104.68029%5D%2C%20%5B45.004991%2C%20-123.98280700000001%5D%2C%20%5B41.259294%2C%20-121.98732700000001%5D%2C%20%5B38.0475%2C%20-84.54342%5D%2C%20%5B38.895998%2C%20-111.277681%5D%2C%20%5B33.831578%2C%20-118.293581%5D%2C%20%5B38.704173%2C%20-121.328345%5D%2C%20%5B36.892031%2C%20-79.866742%5D%2C%20%5B35.110191%2C%20-80.689376%5D%2C%20%5B30.431174%2C%20-91.052058%5D%2C%20%5B37.794416999999996%2C%20-122.40021499999999%5D%2C%20%5B29.777459999999998%2C%20-95.42557%5D%2C%20%5B36.39945%2C%20-87.01953%5D%2C%20%5B43.607449%2C%20-116.274298%5D%2C%20%5B45.27904%2C%20-93.743163%5D%2C%20%5B33.1899%2C%20-117.27578000000001%5D%2C%20%5B33.888756%2C%20-117.51288600000001%5D%2C%20%5B37.55421%2C%20-122.29142%5D%2C%20%5B42.39953%2C%20-70.9946%5D%2C%20%5B41.90238%2C%20-72.63655%5D%2C%20%5B35.190020000000004%2C%20-80.79835%5D%2C%20%5B36.748618%2C%20-119.718231%5D%2C%20%5B33.2585%2C%20-84.093496%5D%2C%20%5B34.26576%2C%20-118.44871%5D%2C%20%5B35.41083%2C%20-80.84266%5D%2C%20%5B44.970620000000004%2C%20-93.29813%5D%2C%20%5B34.268198%2C%20-119.27178799999999%5D%2C%20%5B37.58917%2C%20-121.87163000000001%5D%2C%20%5B38.93865%2C%20-94.60309000000001%5D%2C%20%5B33.99648%2C%20-118.28048000000001%5D%2C%20%5B36.895123999999996%2C%20-121.55628200000001%5D%2C%20%5B32.794437%2C%20-96.658781%5D%2C%20%5B42.213629%2C%20-123.648683%5D%2C%20%5B33.914640000000006%2C%20-84.35777%5D%2C%20%5B36.222498%2C%20-121.75892900000001%5D%2C%20%5B42.42843%2C%20-87.87656%5D%2C%20%5B39.63541%2C%20-104.90133%5D%2C%20%5B45.991170000000004%2C%20-122.45025%5D%2C%20%5B38.453897%2C%20-121.40921399999999%5D%2C%20%5B38.844879999999996%2C%20-76.93458000000001%5D%2C%20%5B32.67102%2C%20-97.36783%5D%2C%20%5B33.582509%2C%20-86.705589%5D%2C%20%5B37.262496999999996%2C%20-119.69812399999999%5D%2C%20%5B32.61487%2C%20-117.09107%5D%2C%20%5B40.79694%2C%20-73.34208000000001%5D%2C%20%5B35.051109999999994%2C%20-89.92543%5D%2C%20%5B39.245022999999996%2C%20-123.125192%5D%2C%20%5B46.167125%2C%20-123.59796899999999%5D%2C%20%5B42.43769%2C%20-123.283148%5D%2C%20%5B44.877744%2C%20-121.429105%5D%2C%20%5B33.66171%2C%20-84.02468%5D%2C%20%5B31.75883%2C%20-106.48716999999999%5D%2C%20%5B38.376821%2C%20-121.362265%5D%2C%20%5B40.675238%2C%20-74.172638%5D%2C%20%5B41.363424%2C%20-112.035521%5D%2C%20%5B35.849876%2C%20-78.58065400000001%5D%2C%20%5B38.26037%2C%20-85.724655%5D%2C%20%5B39.35575%2C%20-94.7645%5D%2C%20%5B42.897458%2C%20-121.830025%5D%2C%20%5B41.66267%2C%20-87.59124%5D%2C%20%5B37.98475%2C%20-122.04133%5D%2C%20%5B32.932790000000004%2C%20-96.75475%5D%2C%20%5B29.8292%2C%20-95.335%5D%2C%20%5B38.582793%2C%20-121.502684%5D%2C%20%5B40.607566999999996%2C%20-74.08649799999999%5D%2C%20%5B37.70085%2C%20-121.79437%5D%2C%20%5B40.10913%2C%20-83.08653000000001%5D%2C%20%5B41.306652%2C%20-112.027643%5D%2C%20%5B32.13409%2C%20-110.95626000000001%5D%2C%20%5B35.107444%2C%20-90.029278%5D%2C%20%5B40.626259999999995%2C%20-96.70575%5D%2C%20%5B35.738658%2C%20-78.791668%5D%2C%20%5B40.025542%2C%20-75.02815600000001%5D%2C%20%5B28.463054%2C%20-81.49155%5D%2C%20%5B37.36197%2C%20-121.90365%5D%2C%20%5B37.61718%2C%20-122.15493400000001%5D%2C%20%5B38.11461%2C%20-121.394896%5D%2C%20%5B26.277540000000002%2C%20-81.74291%5D%2C%20%5B33.467056%2C%20-117.670212%5D%2C%20%5B33.98748%2C%20-118.13756000000001%5D%2C%20%5B42.34582%2C%20-71.05958000000001%5D%2C%20%5B37.761351%2C%20-122.39263799999999%5D%2C%20%5B43.95963%2C%20-90.36658%5D%2C%20%5B42.46549%2C%20-87.953271%5D%2C%20%5B36.808323%2C%20-119.80830800000001%5D%2C%20%5B38.584959999999995%2C%20-90.44863000000001%5D%2C%20%5B33.92503%2C%20-118.33267%5D%2C%20%5B36.1146%2C%20-115.24288999999999%5D%2C%20%5B34.022608%2C%20-117.552949%5D%2C%20%5B34.083377%2C%20-117.69466399999999%5D%2C%20%5B33.81863%2C%20-117.51501999999999%5D%2C%20%5B41.953316%2C%20-72.60055%5D%2C%20%5B33.873567%2C%20-79.104773%5D%2C%20%5B39.954749%2C%20-82.977806%5D%2C%20%5B33.99686%2C%20-117.931224%5D%2C%20%5B38.89889%2C%20-94.52438000000001%5D%2C%20%5B25.812517%2C%20-80.205795%5D%2C%20%5B25.872982%2C%20-80.208732%5D%2C%20%5B38.643574%2C%20-121.52623500000001%5D%2C%20%5B47.771879999999996%2C%20-122.32031%5D%2C%20%5B41.12308%2C%20-111.76521000000001%5D%2C%20%5B35.303114%2C%20-119.00314399999999%5D%2C%20%5B38.613627%2C%20-121.336793%5D%2C%20%5B39.89908%2C%20-75.17405%5D%2C%20%5B37.808253%2C%20-122.366974%5D%2C%20%5B38.74675%2C%20-90.43590999999999%5D%2C%20%5B31.908984999999998%2C%20-84.189167%5D%2C%20%5B40.943137%2C%20-74.068526%5D%2C%20%5B33.48771%2C%20-112.12566000000001%5D%2C%20%5B33.862414%2C%20-118.319617%5D%2C%20%5B47.753029999999995%2C%20-122.33008999999998%5D%2C%20%5B40.447671%2C%20-80.02627%5D%2C%20%5B40.09057%2C%20-75.41372%5D%2C%20%5B34.035698%2C%20-118.09861699999999%5D%2C%20%5B39.978052000000005%2C%20-76.797048%5D%2C%20%5B38.02006%2C%20-122.26488%5D%2C%20%5B37.003895%2C%20-121.680778%5D%2C%20%5B42.74443%2C%20-77.59668%5D%2C%20%5B28.084941999999998%2C%20-82.505153%5D%2C%20%5B39.3413%2C%20-76.76231999999999%5D%2C%20%5B37.613766%2C%20-77.496874%5D%2C%20%5B29.777459999999998%2C%20-95.83236%5D%2C%20%5B27.777390000000004%2C%20-82.67953299999999%5D%2C%20%5B44.92398%2C%20-92.97054%5D%2C%20%5B32.846990000000005%2C%20-79.97946%5D%2C%20%5B34.303247999999996%2C%20-118.479759%5D%2C%20%5B44.020540000000004%2C%20-91.65203000000001%5D%2C%20%5B39.20986%2C%20-76.64809%5D%2C%20%5B35.224472%2C%20-80.898661%5D%2C%20%5B39.7258%2C%20-105.00963%5D%2C%20%5B39.87213%2C%20-75.08524%5D%2C%20%5B40.680659999999996%2C%20-74.00313%5D%2C%20%5B34.095545%2C%20-78.875128%5D%2C%20%5B38.512149%2C%20-122.103853%5D%2C%20%5B34.021203%2C%20-117.338082%5D%2C%20%5B34.72917%2C%20-118.17008999999999%5D%2C%20%5B41.27248%2C%20-73.11913%5D%2C%20%5B40.81759%2C%20-73.93078%5D%2C%20%5B39.089009999999995%2C%20-84.47495%5D%2C%20%5B39.321712%2C%20-120.83971100000001%5D%2C%20%5B33.924894%2C%20-118.104184%5D%2C%20%5B35.512840000000004%2C%20-78.55634%5D%2C%20%5B33.81794%2C%20-117.91821000000002%5D%2C%20%5B41.239944%2C%20-87.857139%5D%2C%20%5B42.18266%2C%20-87.96533000000001%5D%2C%20%5B35.49326%2C%20-97.51114%5D%2C%20%5B40.057809999999996%2C%20-82.99834%5D%2C%20%5B34.794505%2C%20-92.444558%5D%2C%20%5B45.453540000000004%2C%20-122.72174299999999%5D%2C%20%5B33.76514%2C%20-84.52126%5D%2C%20%5B45.292543%2C%20-118.034287%5D%2C%20%5B42.397259999999996%2C%20-83.43128%5D%2C%20%5B33.191587%2C%20-117.243707%5D%2C%20%5B40.853486%2C%20-73.919901%5D%2C%20%5B35.163129999999995%2C%20-80.89571%5D%2C%20%5B44.701145000000004%2C%20-122.075903%5D%2C%20%5B39.40254%2C%20-77.42931%5D%2C%20%5B44.798972%2C%20-93.289528%5D%2C%20%5B44.910531%2C%20-93.525786%5D%2C%20%5B39.89738%2C%20-82.90273%5D%2C%20%5B38.882509999999996%2C%20-77.02645%5D%2C%20%5B35.821837%2C%20-78.569126%5D%2C%20%5B37.693415%2C%20-122.39176299999998%5D%2C%20%5B40.906465999999995%2C%20-74.03365699999999%5D%2C%20%5B36.763040000000004%2C%20-76.26746%5D%2C%20%5B33.709734000000005%2C%20-117.78173000000001%5D%2C%20%5B41.62624%2C%20-87.6772%5D%2C%20%5B29.978679%2C%20-90.057744%5D%2C%20%5B33.88818%2C%20-117.55203999999999%5D%2C%20%5B33.898497%2C%20-118.19357%5D%2C%20%5B39.88935%2C%20-104.98768000000001%5D%2C%20%5B41.197340000000004%2C%20-73.68602%5D%2C%20%5B39.785982000000004%2C%20-75.04896%5D%2C%20%5B39.035868%2C%20-77.194181%5D%2C%20%5B33.47173%2C%20-82.315503%5D%2C%20%5B37.783095%2C%20-121.246381%5D%2C%20%5B38.236877%2C%20-78.967112%5D%2C%20%5B33.89311%2C%20-118.36421999999999%5D%2C%20%5B34.241152%2C%20-118.39568100000001%5D%2C%20%5B37.41%2C%20-77.50213000000001%5D%2C%20%5B40.86573%2C%20-73.37198000000001%5D%2C%20%5B42.52688%2C%20-70.95715%5D%2C%20%5B35.556909999999995%2C%20-82.53808000000001%5D%2C%20%5B39.78001%2C%20-104.96181100000001%5D%2C%20%5B38.737999%2C%20-122.14627800000001%5D%2C%20%5B40.714062%2C%20-73.953%5D%2C%20%5B39.933%2C%20-74.96306%5D%2C%20%5B42.309641%2C%20-122.84711200000001%5D%2C%20%5B32.969172%2C%20-117.24918400000001%5D%2C%20%5B40.55887%2C%20-111.89092%5D%2C%20%5B30.446040000000004%2C%20-81.60842%5D%2C%20%5B38.73426%2C%20-120.77476599999999%5D%2C%20%5B42.880683000000005%2C%20-73.887365%5D%2C%20%5B37.589909999999996%2C%20-77.46942%5D%2C%20%5B43.226827%2C%20-123.361069%5D%2C%20%5B44.885334%2C%20-93.064017%5D%2C%20%5B33.89865%2C%20-84.47028%5D%2C%20%5B44.946870000000004%2C%20-93.0791%5D%2C%20%5B38.63108%2C%20-90.28278%5D%2C%20%5B32.672987%2C%20-96.76248100000001%5D%2C%20%5B42.364001%2C%20-83.068088%5D%2C%20%5B33.774384999999995%2C%20-118.10200400000001%5D%2C%20%5B33.395435%2C%20-117.593218%5D%2C%20%5B39.95933%2C%20-75.17341%5D%2C%20%5B39.56423%2C%20-74.754205%5D%2C%20%5B34.795704%2C%20-118.858402%5D%2C%20%5B34.072283%2C%20-117.931505%5D%2C%20%5B39.681345%2C%20-104.114729%5D%2C%20%5B25.520518%2C%20-80.425692%5D%2C%20%5B35.80969%2C%20-80.86126999999999%5D%2C%20%5B41.859982%2C%20-87.918913%5D%2C%20%5B41.919%2C%20-87.72661%5D%2C%20%5B34.121035%2C%20-117.883204%5D%2C%20%5B27.833721%2C%20-82.72837700000001%5D%2C%20%5B34.016776%2C%20-118.140101%5D%2C%20%5B44.94907%2C%20-122.69646000000002%5D%2C%20%5B33.77453%2C%20-118.07978999999999%5D%2C%20%5B33.598759%2C%20-117.677524%5D%2C%20%5B39.732473999999996%2C%20-75.311311%5D%2C%20%5B25.687934%2C%20-80.350774%5D%2C%20%5B34.04365%2C%20-118.44373%5D%2C%20%5B38.55361%2C%20-121.40926999999999%5D%2C%20%5B36.72185%2C%20-119.78925%5D%2C%20%5B38.355259999999994%2C%20-81.64873%5D%2C%20%5B39.08645%2C%20-94.54127%5D%2C%20%5B37.410940000000004%2C%20-122.07513999999999%5D%2C%20%5B38.022666%2C%20-121.965177%5D%2C%20%5B33.990992999999996%2C%20-117.55028%5D%2C%20%5B34.031857%2C%20-118.424152%5D%2C%20%5B45.28897%2C%20-118.03511999999999%5D%2C%20%5B42.974606%2C%20-85.67782199999999%5D%2C%20%5B37.364271%2C%20-121.843933%5D%2C%20%5B34.03085%2C%20-117.13362%5D%2C%20%5B34.507778%2C%20-119.28944399999999%5D%2C%20%5B45.03403%2C%20-92.98478%5D%2C%20%5B40.71565%2C%20-111.90527%5D%2C%20%5B34.068869%2C%20-117.839455%5D%2C%20%5B28.445028000000004%2C%20-81.47094799999999%5D%2C%20%5B36.61253%2C%20-121.84682600000001%5D%2C%20%5B33.87897%2C%20-117.55805%5D%2C%20%5B34.17025%2C%20-118.30445%5D%2C%20%5B28.452926%2C%20-80.893117%5D%2C%20%5B41.04439%2C%20-73.55513%5D%2C%20%5B37.692035%2C%20-122.13974499999999%5D%2C%20%5B29.94091%2C%20-90.09743%5D%2C%20%5B28.102884000000003%2C%20-82.69409499999999%5D%2C%20%5B44.802193%2C%20-122.75356000000001%5D%2C%20%5B36.82925%2C%20-119.91394%5D%2C%20%5B32.949188%2C%20-96.907964%5D%2C%20%5B40.907621%2C%20-74.600973%5D%2C%20%5B43.024862%2C%20-83.68147900000001%5D%2C%20%5B28.516009999999998%2C%20-81.3884%5D%2C%20%5B36.75759%2C%20-76.289078%5D%2C%20%5B34.026202000000005%2C%20-117.333547%5D%2C%20%5B32.25028%2C%20-110.9936%5D%2C%20%5B38.459219%2C%20-121.40563200000001%5D%2C%20%5B34.16108%2C%20-118.46961%5D%2C%20%5B38.91428%2C%20-76.98913%5D%2C%20%5B40.53908%2C%20-74.51768%5D%2C%20%5B37.30324%2C%20-122.0351%5D%2C%20%5B39.85222%2C%20-85.25576%5D%2C%20%5B42.571185%2C%20-113.508219%5D%2C%20%5B38.519505%2C%20-121.521969%5D%2C%20%5B34.030318%2C%20-117.64368400000001%5D%2C%20%5B40.7133%2C%20-73.67708%5D%2C%20%5B45.49021%2C%20-122.67506999999999%5D%2C%20%5B25.761055%2C%20-80.432928%5D%2C%20%5B45.64027%2C%20-121.20881000000001%5D%2C%20%5B37.59749%2C%20-88.99786%5D%2C%20%5B45.13389%2C%20-93.2355%5D%2C%20%5B41.600621000000004%2C%20-93.600462%5D%2C%20%5B37.50243%2C%20-77.52011%5D%2C%20%5B34.120112%2C%20-117.837263%5D%2C%20%5B41.539770000000004%2C%20-73.08198%5D%2C%20%5B40.74548%2C%20-73.8366%5D%2C%20%5B27.475213%2C%20-82.46476700000001%5D%2C%20%5B38.59933%2C%20-77.31358%5D%2C%20%5B40.989625%2C%20-73.864232%5D%2C%20%5B34.02902%2C%20-118.39636999999999%5D%2C%20%5B34.286663%2C%20-79.88054100000001%5D%2C%20%5B34.272107%2C%20-119.27878899999999%5D%2C%20%5B45.63388%2C%20-121.21181999999999%5D%2C%20%5B40.711051%2C%20-112.02489399999999%5D%2C%20%5B41.81463%2C%20-71.41029%5D%2C%20%5B40.76477%2C%20-111.96131000000001%5D%2C%20%5B42.619609999999994%2C%20-88.74129%5D%2C%20%5B44.974959999999996%2C%20-93.28756%5D%2C%20%5B33.939204%2C%20-118.04493899999999%5D%2C%20%5B37.453551000000004%2C%20-77.424531%5D%2C%20%5B41.5491%2C%20-73.04706%5D%2C%20%5B43.20388%2C%20-77.65698%5D%2C%20%5B33.859203%2C%20-84.293173%5D%2C%20%5B34.02975%2C%20-118.40551%5D%2C%20%5B28.539382%2C%20-81.522977%5D%2C%20%5B45.18195%2C%20-93.10777%5D%2C%20%5B41.745855%2C%20-76.317272%5D%2C%20%5B35.026203%2C%20-85.157736%5D%2C%20%5B35.278059999999996%2C%20-80.79356%5D%2C%20%5B37.826668%2C%20-122.26790700000001%5D%2C%20%5B36.06517%2C%20-115.18288000000001%5D%2C%20%5B40.630613000000004%2C%20-75.47059499999999%5D%2C%20%5B34.225398999999996%2C%20-119.15943600000001%5D%2C%20%5B32.87535%2C%20-96.7701%5D%2C%20%5B37.89233%2C%20-122.157702%5D%2C%20%5B42.438497999999996%2C%20-83.431689%5D%2C%20%5B41.878541%2C%20-123.82726100000001%5D%2C%20%5B38.774190000000004%2C%20-77.18122%5D%2C%20%5B42.41839%2C%20-71.21485%5D%2C%20%5B37.71367%2C%20-122.1713%5D%2C%20%5B28.604509999999998%2C%20-81.30752%5D%2C%20%5B37.885375%2C%20-122.516577%5D%2C%20%5B44.777899%2C%20-93.554796%5D%2C%20%5B35.073273%2C%20-118.972629%5D%2C%20%5B33.136721%2C%20-117.169128%5D%2C%20%5B33.24098%2C%20-84.394148%5D%2C%20%5B37.46971%2C%20-77.42839000000001%5D%2C%20%5B38.559364%2C%20-121.51398600000002%5D%2C%20%5B38.28765%2C%20-85.57222%5D%2C%20%5B44.06371%2C%20-123.04941000000001%5D%2C%20%5B45.091483000000004%2C%20-123.388249%5D%2C%20%5B33.065115000000006%2C%20-117.292378%5D%2C%20%5B37.345908%2C%20-121.531072%5D%2C%20%5B38.650937%2C%20-122.59875500000001%5D%2C%20%5B25.945315%2C%20-80.17871%5D%2C%20%5B33.88491%2C%20-117.6336%5D%2C%20%5B39.84495%2C%20-104.98483999999999%5D%2C%20%5B28.42815%2C%20-81.40472%5D%2C%20%5B44.97726%2C%20-122.99123%5D%2C%20%5B34.697905%2C%20-118.142022%5D%2C%20%5B31.74646%2C%20-106.33551999999999%5D%2C%20%5B42.814890000000005%2C%20-73.98104000000001%5D%2C%20%5B25.95802%2C%20-80.17108%5D%2C%20%5B39.034775%2C%20-94.3091%5D%2C%20%5B27.586959000000004%2C%20-82.409144%5D%2C%20%5B33.989556%2C%20-118.064365%5D%2C%20%5B32.76432%2C%20-96.84322%5D%2C%20%5B37.56322%2C%20-122.03991%5D%2C%20%5B25.905851000000002%2C%20-80.210044%5D%2C%20%5B35.29672%2C%20-80.74154%5D%2C%20%5B38.500949%2C%20-89.97671700000001%5D%2C%20%5B32.76748%2C%20-97.31084%5D%2C%20%5B42.01389%2C%20-87.75305%5D%2C%20%5B44.57711%2C%20-120.28491799999999%5D%2C%20%5B45.663546000000004%2C%20-121.89371899999999%5D%2C%20%5B26.155881%2C%20-80.165544%5D%2C%20%5B42.27925%2C%20-84.30885%5D%2C%20%5B38.88054%2C%20-111.56991000000001%5D%2C%20%5B25.863028%2C%20-80.322622%5D%2C%20%5B40.259898%2C%20-121.36346499999999%5D%2C%20%5B28.506140000000002%2C%20-81.33915999999999%5D%2C%20%5B41.98551%2C%20-72.01888000000001%5D%2C%20%5B41.87202%2C%20-87.825%5D%2C%20%5B38.8898%2C%20-77.00589000000001%5D%2C%20%5B35.963755%2C%20-83.947552%5D%2C%20%5B44.41278%2C%20-95.12724%5D%2C%20%5B39.106660999999995%2C%20-94.580665%5D%2C%20%5B44.88521%2C%20-93.3501%5D%2C%20%5B47.345464%2C%20-122.292723%5D%2C%20%5B34.223025%2C%20-118.248799%5D%2C%20%5B40.77924%2C%20-73.04918%5D%2C%20%5B41.8226%2C%20-87.91637%5D%2C%20%5B33.108376%2C%20-84.00204000000001%5D%2C%20%5B41.90883%2C%20-87.80578%5D%2C%20%5B38.56472%2C%20-121.49775%5D%2C%20%5B44.02993%2C%20-85.14520999999999%5D%2C%20%5B42.181353%2C%20-84.645915%5D%2C%20%5B41.797195%2C%20-88.30292299999999%5D%2C%20%5B34.0585%2C%20-118.17771%5D%2C%20%5B37.38704%2C%20-122.06853999999998%5D%2C%20%5B34.89512%2C%20-82.08797%5D%2C%20%5B44.85862%2C%20-93.3451%5D%2C%20%5B37.434401%2C%20-120.77968700000001%5D%2C%20%5B39.295737%2C%20-77.334092%5D%2C%20%5B42.298511%2C%20-83.763145%5D%2C%20%5B33.875331%2C%20-118.193156%5D%2C%20%5B37.25835%2C%20-121.96395%5D%2C%20%5B41.874109999999995%2C%20-87.7238%5D%2C%20%5B41.67569%2C%20-83.69426999999999%5D%2C%20%5B40.525259000000005%2C%20-74.239311%5D%2C%20%5B44.026926%2C%20-123.82951100000001%5D%2C%20%5B36.836632%2C%20-76.28712%5D%2C%20%5B44.757676000000004%2C%20-122.50509299999999%5D%2C%20%5B34.488149%2C%20-118.136771%5D%2C%20%5B27.00457%2C%20-82.1298%5D%2C%20%5B44.425670000000004%2C%20-121.73808999999999%5D%2C%20%5B35.29186%2C%20-120.64715%5D%2C%20%5B33.38641%2C%20-111.72506000000001%5D%2C%20%5B32.423648%2C%20-93.773361%5D%2C%20%5B34.11784%2C%20-118.33728700000002%5D%2C%20%5B37.94095%2C%20-122.05988%5D%2C%20%5B43.471838%2C%20-123.31605%5D%2C%20%5B29.630513%2C%20-95.17199699999999%5D%2C%20%5B43.116858%2C%20-75.312287%5D%2C%20%5B29.407417%2C%20-81.156943%5D%2C%20%5B41.3058%2C%20-111.96873000000001%5D%2C%20%5B32.776862%2C%20-117.135447%5D%2C%20%5B37.78743%2C%20-122.38938999999999%5D%2C%20%5B39.101659999999995%2C%20-94.67931%5D%2C%20%5B39.828109999999995%2C%20-86.033624%5D%2C%20%5B35.96532%2C%20-78.541584%5D%2C%20%5B39.81165%2C%20-75.27349%5D%2C%20%5B29.729940000000003%2C%20-95.45142299999999%5D%2C%20%5B25.788635%2C%20-80.20586999999999%5D%2C%20%5B34.145582%2C%20-117.30286299999999%5D%2C%20%5B33.871843%2C%20-98.549674%5D%2C%20%5B33.597446000000005%2C%20-86.209856%5D%2C%20%5B32.463516%2C%20-93.733025%5D%2C%20%5B39.310421999999996%2C%20-76.502662%5D%2C%20%5B33.552539%2C%20-117.1403%5D%2C%20%5B28.328433%2C%20-81.40371999999999%5D%2C%20%5B41.956309999999995%2C%20-88.02799%5D%2C%20%5B43.563771%2C%20-91.62368599999999%5D%2C%20%5B33.774322%2C%20-84.56576899999999%5D%2C%20%5B37.548559999999995%2C%20-122.29151999999999%5D%2C%20%5B39.12382%2C%20-104.86469%5D%2C%20%5B30.463558000000003%2C%20-84.31818299999999%5D%2C%20%5B32.651721%2C%20-117.098153%5D%2C%20%5B30.54273%2C%20-91.02871999999999%5D%2C%20%5B34.054256%2C%20-118.004167%5D%2C%20%5B38.610092%2C%20-121.352202%5D%2C%20%5B38.0268%2C%20-121.931028%5D%2C%20%5B29.928995%2C%20-90.031975%5D%2C%20%5B40.82108%2C%20-97.60297%5D%2C%20%5B34.021931%2C%20-118.164527%5D%2C%20%5B40.83055%2C%20-77.83939000000001%5D%2C%20%5B40.122883%2C%20-75.064145%5D%2C%20%5B40.247257%2C%20-104.98038000000001%5D%2C%20%5B34.148314%2C%20-118.69786200000001%5D%2C%20%5B47.61958%2C%20-122.32865%5D%2C%20%5B40.6888%2C%20-73.80870999999999%5D%2C%20%5B33.500919%2C%20-117.15120900000001%5D%2C%20%5B32.77943%2C%20-117.067498%5D%2C%20%5B36.34583%2C%20-86.92681%5D%2C%20%5B47.96747%2C%20-122.19863000000001%5D%2C%20%5B34.11854%2C%20-117.8654%5D%2C%20%5B34.04507%2C%20-118.2709%5D%2C%20%5B33.880151%2C%20-117.56524399999999%5D%2C%20%5B33.961591999999996%2C%20-118.11089399999999%5D%2C%20%5B25.829038%2C%20-80.253203%5D%2C%20%5B38.58005%2C%20-121.50516200000001%5D%2C%20%5B34.114946999999994%2C%20-117.977632%5D%2C%20%5B34.31171%2C%20-117.47612%5D%2C%20%5B45.585529%2C%20-123.1144%5D%2C%20%5B30.440237%2C%20-91.210748%5D%2C%20%5B25.840635%2C%20-80.323122%5D%2C%20%5B37.76377%2C%20-121.96798000000001%5D%2C%20%5B47.46399%2C%20-122.27165%5D%2C%20%5B40.08998%2C%20-82.80294%5D%2C%20%5B43.21434%2C%20-121.78218000000001%5D%2C%20%5B48.06925%2C%20-124.06461999999999%5D%2C%20%5B33.83174%2C%20-118.25608999999999%5D%2C%20%5B39.496525%2C%20-119.78416000000001%5D%2C%20%5B34.211869%2C%20-118.22786299999999%5D%2C%20%5B30.380640999999997%2C%20-81.673425%5D%2C%20%5B40.80149%2C%20-74.0212%5D%2C%20%5B42.393390999999994%2C%20-120.299691%5D%2C%20%5B39.129463%2C%20-77.544188%5D%2C%20%5B34.033408%2C%20-118.180177%5D%2C%20%5B40.10587%2C%20-111.6548%5D%2C%20%5B34.027372%2C%20-117.800506%5D%2C%20%5B44.126002%2C%20-122.625803%5D%2C%20%5B39.856301%2C%20-104.987278%5D%2C%20%5B42.42051%2C%20-71.14206999999999%5D%2C%20%5B33.857353%2C%20-117.979373%5D%2C%20%5B33.326383%2C%20-94.392125%5D%2C%20%5B29.755833000000003%2C%20-81.312674%5D%2C%20%5B36.536453%2C%20-114.44332%5D%2C%20%5B33.69325%2C%20-117.86691%5D%2C%20%5B27.317478%2C%20-80.374399%5D%2C%20%5B25.967527%2C%20-80.229388%5D%2C%20%5B40.64456%2C%20-111.938814%5D%2C%20%5B33.943146999999996%2C%20-117.28250600000001%5D%2C%20%5B44.88997%2C%20-93.35364%5D%2C%20%5B33.306%2C%20-111.89418%5D%2C%20%5B35.946521999999995%2C%20-80.30989%5D%2C%20%5B32.957003%2C%20-117.245227%5D%2C%20%5B35.08157%2C%20-80.77256%5D%2C%20%5B33.72675%2C%20-84.32383%5D%2C%20%5B38.912619%2C%20-77.020844%5D%2C%20%5B38.914896%2C%20-76.549545%5D%2C%20%5B34.008232%2C%20-117.73068300000001%5D%2C%20%5B34.122987%2C%20-93.09038699999999%5D%2C%20%5B33.576482%2C%20-111.889261%5D%2C%20%5B30.488957%2C%20-91.15685500000001%5D%2C%20%5B31.679920000000003%2C%20-106.312454%5D%2C%20%5B33.76784%2C%20-117.47833%5D%2C%20%5B45.347415000000005%2C%20-118.245304%5D%2C%20%5B36.735997999999995%2C%20-119.60998799999999%5D%2C%20%5B44.35941%2C%20-121.17858000000001%5D%2C%20%5B43.654507%2C%20-123.87635300000001%5D%2C%20%5B42.96069%2C%20-70.85923000000001%5D%2C%20%5B34.88957%2C%20-78.84897%5D%2C%20%5B47.73178%2C%20-122.32393%5D%2C%20%5B39.934259999999995%2C%20-75.083572%5D%2C%20%5B42.244059%2C%20-122.771648%5D%2C%20%5B41.36804%2C%20-89.04854300000001%5D%2C%20%5B33.89815%2C%20-84.26787%5D%2C%20%5B36.149578999999996%2C%20-86.77290500000001%5D%2C%20%5B33.956140000000005%2C%20-118.10918000000001%5D%2C%20%5B35.922932%2C%20-119.282048%5D%2C%20%5B41.868031%2C%20-87.64482%5D%2C%20%5B32.30881%2C%20-81.88020999999999%5D%2C%20%5B40.241994%2C%20-74.52699%5D%2C%20%5B44.082137%2C%20-123.103319%5D%2C%20%5B34.01883%2C%20-81.10584%5D%2C%20%5B36.749953000000005%2C%20-119.89813600000001%5D%2C%20%5B43.144388%2C%20-123.384155%5D%2C%20%5B43.851420000000005%2C%20-93.28402%5D%2C%20%5B30.312440999999996%2C%20-81.650851%5D%2C%20%5B33.49135%2C%20-112.11296000000002%5D%2C%20%5B42.340327%2C%20-87.984383%5D%2C%20%5B42.361470000000004%2C%20-83.07294%5D%2C%20%5B29.755640000000003%2C%20-95.55819%5D%2C%20%5B29.509725%2C%20-98.397981%5D%2C%20%5B39.2662%2C%20-76.56246999999999%5D%2C%20%5B35.057161%2C%20-80.81235%5D%2C%20%5B42.379090000000005%2C%20-83.193772%5D%2C%20%5B33.07328%2C%20-96.68738%5D%2C%20%5B41.002639%2C%20-73.691278%5D%2C%20%5B31.03551%2C%20-97.47187%5D%2C%20%5B34.068356%2C%20-117.83758%5D%2C%20%5B34.86766%2C%20-82.40446%5D%2C%20%5B33.832043%2C%20-118.256374%5D%2C%20%5B33.661982%2C%20-117.875487%5D%2C%20%5B28.124129999999997%2C%20-80.705813%5D%2C%20%5B39.82826%2C%20-75.08663%5D%2C%20%5B45.59554%2C%20-118.61419%5D%2C%20%5B40.88969%2C%20-74.07219%5D%2C%20%5B40.99462%2C%20-74.04448000000001%5D%2C%20%5B39.03398%2C%20-94.30249%5D%2C%20%5B47.57567%2C%20-122.31952%5D%2C%20%5B35.39113%2C%20-97.42859%5D%2C%20%5B42.064406%2C%20-120.31563500000001%5D%2C%20%5B42.39197%2C%20-87.85528000000001%5D%2C%20%5B38.74366%2C%20-90.39542%5D%2C%20%5B32.71148%2C%20-117.1009%5D%2C%20%5B34.058679%2C%20-118.17736699999999%5D%2C%20%5B34.2146%2C%20-118.35163999999999%5D%2C%20%5B35.215790000000005%2C%20-80.86576%5D%2C%20%5B25.689095000000002%2C%20-80.352242%5D%2C%20%5B43.60192%2C%20-70.37555%5D%2C%20%5B39.5285%2C%20-86.87261%5D%2C%20%5B34.13653%2C%20-117.49297%5D%2C%20%5B38.026775%2C%20-121.95733%5D%2C%20%5B43.074795%2C%20-73.864108%5D%2C%20%5B33.928740999999995%2C%20-118.368725%5D%2C%20%5B26.188277%2C%20-80.169503%5D%2C%20%5B45.5343%2C%20-122.68701999999999%5D%2C%20%5B40.64434%2C%20-74.71304%5D%2C%20%5B30.461119%2C%20-87.301077%5D%2C%20%5B33.248278000000006%2C%20-117.15413899999999%5D%2C%20%5B37.390456%2C%20-121.86955900000001%5D%2C%20%5B42.8386%2C%20-87.95235%5D%2C%20%5B43.179331%2C%20-71.531669%5D%2C%20%5B39.14154%2C%20-76.75815%5D%2C%20%5B38.501933%2C%20-121.223308%5D%2C%20%5B34.71972%2C%20-115.787555%5D%2C%20%5B27.79213%2C%20-82.33499%5D%2C%20%5B44.25439%2C%20-93.287142%5D%2C%20%5B35.62336%2C%20-82.19896%5D%2C%20%5B43.702079%2C%20-93.435362%5D%2C%20%5B38.46445%2C%20-122.72691%5D%2C%20%5B33.38641%2C%20-111.72506000000001%5D%2C%20%5B35.22757%2C%20-80.867%5D%2C%20%5B39.681286%2C%20-76.924035%5D%2C%20%5B43.162353%2C%20-71.517776%5D%2C%20%5B33.925973%2C%20-118.239147%5D%2C%20%5B41.683009999999996%2C%20-83.6945%5D%2C%20%5B38.209344%2C%20-122.15081299999999%5D%2C%20%5B39.752392%2C%20-86.225757%5D%2C%20%5B35.306739%2C%20-111.542681%5D%2C%20%5B41.82419%2C%20-71.41919%5D%2C%20%5B28.596371%2C%20-81.398359%5D%2C%20%5B36.07931%2C%20-115.18064%5D%2C%20%5B45.69052%2C%20-121.75825%5D%2C%20%5B42.308853000000006%2C%20-122.84574099999999%5D%2C%20%5B33.99706%2C%20-117.93118999999999%5D%2C%20%5B43.02769%2C%20-71.44808%5D%2C%20%5B33.778909000000006%2C%20-117.876878%5D%2C%20%5B34.289543%2C%20-118.46738500000001%5D%2C%20%5B27.98155%2C%20-82.50548%5D%2C%20%5B32.73007%2C%20-117.10786%5D%2C%20%5B46.549444%2C%20-95.456335%5D%2C%20%5B33.18125%2C%20-117.33571%5D%2C%20%5B28.34215%2C%20-81.3264%5D%2C%20%5B40.7423%2C%20-73.72941%5D%2C%20%5B33.871508%2C%20-117.666114%5D%2C%20%5B34.014593%2C%20-117.45328400000001%5D%2C%20%5B30.39797%2C%20-86.59792%5D%2C%20%5B43.035794%2C%20-87.910696%5D%2C%20%5B30.44909%2C%20-84.28314%5D%2C%20%5B40.07934%2C%20-111.70903%5D%2C%20%5B35.000778000000004%2C%20-85.211323%5D%2C%20%5B35.76527%2C%20-78.55917%5D%2C%20%5B45.21798%2C%20-93.59595999999999%5D%2C%20%5B35.192683%2C%20-114.06763899999999%5D%2C%20%5B35.691101%2C%20-81.357849%5D%2C%20%5B33.462153%2C%20-112.043577%5D%2C%20%5B44.423272%2C%20-121.85206699999999%5D%2C%20%5B32.603827%2C%20-96.822885%5D%2C%20%5B34.89089%2C%20-92.1024%5D%2C%20%5B26.57978%2C%20-80.06913%5D%2C%20%5B38.736923%2C%20-120.70763400000001%5D%2C%20%5B37.637429%2C%20-122.09848500000001%5D%2C%20%5B33.997761%2C%20-118.17653%5D%2C%20%5B34.154720000000005%2C%20-118.64925%5D%2C%20%5B37.704390000000004%2C%20-121.73449%5D%2C%20%5B33.864694%2C%20-81.19896999999999%5D%2C%20%5B42.25966%2C%20-88.15945%5D%2C%20%5B38.5229%2C%20-90.39564%5D%2C%20%5B37.70339%2C%20-121.73685%5D%2C%20%5B40.1859%2C%20-77.23505%5D%2C%20%5B33.91643%2C%20-118.298639%5D%2C%20%5B36.942082%2C%20-76.64166800000001%5D%2C%20%5B28.59086%2C%20-81.37961%5D%2C%20%5B43.178211%2C%20-77.79984300000001%5D%2C%20%5B39.03711%2C%20-77.145136%5D%2C%20%5B37.716190000000005%2C%20-111.78431%5D%2C%20%5B38.592572%2C%20-121.551556%5D%2C%20%5B33.827290000000005%2C%20-118.08228999999999%5D%2C%20%5B35.044428%2C%20-80.893867%5D%2C%20%5B40.473945%2C%20-79.972094%5D%2C%20%5B43.671502000000004%2C%20-121.502821%5D%2C%20%5B33.927215000000004%2C%20-117.997417%5D%2C%20%5B43.132878999999996%2C%20-79.046883%5D%2C%20%5B33.605137%2C%20-112.298722%5D%2C%20%5B36.9762%2C%20-121.90715%5D%2C%20%5B37.82827%2C%20-122.29416499999999%5D%2C%20%5B27.9961%2C%20-82.45114000000001%5D%2C%20%5B45.53482%2C%20-122.66675%5D%2C%20%5B34.075432%2C%20-117.544992%5D%2C%20%5B34.427259%2C%20-117.379756%5D%2C%20%5B37.63085%2C%20-120.99793000000001%5D%2C%20%5B38.525918%2C%20-122.482818%5D%2C%20%5B40.067514%2C%20-76.303728%5D%2C%20%5B33.73811%2C%20-117.82664%5D%2C%20%5B34.071639000000005%2C%20-118.110054%5D%2C%20%5B41.539953999999994%2C%20-81.627167%5D%2C%20%5B33.650934%2C%20-84.00008199999999%5D%2C%20%5B39.083262%2C%20-94.566641%5D%2C%20%5B35.87364%2C%20-78.56794000000001%5D%2C%20%5B42.65169%2C%20-83.23843000000001%5D%2C%20%5B37.897822999999995%2C%20-122.08586799999999%5D%2C%20%5B42.950866999999995%2C%20-78.711773%5D%2C%20%5B37.52519%2C%20-79.68248%5D%2C%20%5B25.807866%2C%20-80.283403%5D%2C%20%5B26.59613%2C%20-81.8909%5D%2C%20%5B39.356645%2C%20-74.570998%5D%2C%20%5B35.239351%2C%20-80.885231%5D%2C%20%5B38.71803%2C%20-90.29966%5D%2C%20%5B33.987493%2C%20-118.13753500000001%5D%2C%20%5B41.29656%2C%20-72.69995%5D%2C%20%5B37.336596%2C%20-121.857229%5D%2C%20%5B33.46216%2C%20-112.0236%5D%2C%20%5B39.386234%2C%20-74.513562%5D%2C%20%5B32.91901%2C%20-97.01535%5D%2C%20%5B41.66421%2C%20-86.73602%5D%2C%20%5B34.201108000000005%2C%20-118.47340600000001%5D%2C%20%5B39.714729999999996%2C%20-75.579728%5D%2C%20%5B39.782255%2C%20-75.87558299999999%5D%2C%20%5B35.315384%2C%20-118.787074%5D%2C%20%5B40.84522%2C%20-73.91189%5D%2C%20%5B35.308581%2C%20-77.83027%5D%2C%20%5B25.897273000000002%2C%20-80.24368199999999%5D%2C%20%5B33.50967%2C%20-112.0997%5D%2C%20%5B33.95348%2C%20-81.09228%5D%2C%20%5B34.27373%2C%20-118.42733999999999%5D%2C%20%5B39.76038%2C%20-105.00582%5D%2C%20%5B33.629319%2C%20-117.423144%5D%2C%20%5B45.55551%2C%20-92.99086%5D%2C%20%5B46.699501%2C%20-92.423204%5D%2C%20%5B33.839040000000004%2C%20-117.94798%5D%2C%20%5B42.14578%2C%20-87.83075%5D%2C%20%5B35.179842%2C%20-80.886787%5D%2C%20%5B41.94842%2C%20-87.72163%5D%2C%20%5B33.971808%2C%20-117.54903999999999%5D%2C%20%5B38.990241999999995%2C%20-76.364014%5D%2C%20%5B28.424319%2C%20-81.396462%5D%2C%20%5B42.35118%2C%20-83.09626999999999%5D%2C%20%5B38.64412%2C%20-121.38892%5D%2C%20%5B33.785849%2C%20-78.779123%5D%2C%20%5B33.76593%2C%20-117.93773%5D%2C%20%5B42.293345%2C%20-88.160288%5D%2C%20%5B42.20628%2C%20-70.99375%5D%2C%20%5B40.681290000000004%2C%20-74.00282%5D%2C%20%5B37.053359%2C%20-120.966819%5D%2C%20%5B39.001375%2C%20-77.025238%5D%2C%20%5B40.812709999999996%2C%20-73.11609%5D%2C%20%5B28.123759999999997%2C%20-82.740165%5D%2C%20%5B28.039737%2C%20-80.659593%5D%2C%20%5B36.761852000000005%2C%20-119.77564199999999%5D%2C%20%5B33.61125%2C%20-111.92571000000001%5D%2C%20%5B25.954373999999998%2C%20-80.344251%5D%2C%20%5B28.60241%2C%20-81.72189%5D%2C%20%5B38.4498%2C%20-122.6878%5D%2C%20%5B38.492602000000005%2C%20-121.161301%5D%2C%20%5B34.864338000000004%2C%20-118.16903500000001%5D%2C%20%5B30.015444%2C%20-89.980998%5D%2C%20%5B38.442378999999995%2C%20-90.90499399999999%5D%2C%20%5B35.237707%2C%20-119.00315400000001%5D%2C%20%5B25.685064%2C%20-80.427401%5D%2C%20%5B41.75253%2C%20-87.94456%5D%2C%20%5B25.940382999999997%2C%20-80.191086%5D%2C%20%5B33.731446999999996%2C%20-78.947847%5D%2C%20%5B37.550844%2C%20-122.376%5D%2C%20%5B39.32437%2C%20-77.359811%5D%2C%20%5B46.0242%2C%20-123.91163999999999%5D%2C%20%5B34.910236%2C%20-82.113127%5D%2C%20%5B41.075223%2C%20-73.466482%5D%2C%20%5B41.510690000000004%2C%20-94.19968%5D%2C%20%5B30.245821999999997%2C%20-97.680183%5D%2C%20%5B30.376427000000003%2C%20-86.30487%5D%2C%20%5B34.03089%2C%20-118.19426000000001%5D%2C%20%5B33.70345%2C%20-84.16691%5D%2C%20%5B38.439847%2C%20-121.402796%5D%2C%20%5B35.12815%2C%20-80.87677%5D%2C%20%5B43.322144%2C%20-123.34499699999999%5D%2C%20%5B33.461954%2C%20-112.095327%5D%2C%20%5B34.071183000000005%2C%20-118.14431599999999%5D%2C%20%5B34.754437%2C%20-86.737749%5D%2C%20%5B43.111369%2C%20-83.518888%5D%2C%20%5B47.643402%2C%20-122.308462%5D%2C%20%5B33.346037%2C%20-117.242116%5D%2C%20%5B40.75479%2C%20-74.12007%5D%2C%20%5B39.14348%2C%20-84.51924%5D%2C%20%5B40.458133000000004%2C%20-74.47176%5D%2C%20%5B34.021171%2C%20-118.27768200000001%5D%2C%20%5B41.07719%2C%20-111.9799%5D%2C%20%5B30.22537%2C%20-93.30745%5D%2C%20%5B25.640554%2C%20-80.430077%5D%2C%20%5B35.050406%2C%20-80.76936500000001%5D%2C%20%5B45.364314%2C%20-122.76009099999999%5D%2C%20%5B39.797289%2C%20-74.933222%5D%2C%20%5B32.802159%2C%20-96.827537%5D%2C%20%5B34.067439%2C%20-117.580403%5D%2C%20%5B38.632509999999996%2C%20-121.21363899999999%5D%2C%20%5B37.33379%2C%20-77.326131%5D%2C%20%5B42.25473%2C%20-87.86246%5D%2C%20%5B38.792742%2C%20-122.17943999999999%5D%2C%20%5B35.21815%2C%20-80.8321%5D%2C%20%5B40.901270000000004%2C%20-74.13933%5D%2C%20%5B34.152233%2C%20-118.14590600000001%5D%2C%20%5B26.54399%2C%20-80.07189%5D%2C%20%5B28.60049%2C%20-81.38637%5D%2C%20%5B38.555415999999994%2C%20-121.44094199999999%5D%2C%20%5B25.989091000000002%2C%20-80.16596899999999%5D%2C%20%5B42.949751%2C%20-78.61746600000001%5D%2C%20%5B33.87272%2C%20-118.27317%5D%2C%20%5B40.142875%2C%20-75.45219200000001%5D%2C%20%5B37.82757%2C%20-79.79905%5D%2C%20%5B47.519128%2C%20-94.98579699999999%5D%2C%20%5B31.693379999999998%2C%20-106.2751%5D%2C%20%5B35.849564%2C%20-78.583549%5D%2C%20%5B33.92853%2C%20-118.23042%5D%2C%20%5B38.641647999999996%2C%20-121.42503799999999%5D%2C%20%5B38.57713%2C%20-77.32564%5D%2C%20%5B38.598671%2C%20-121.364494%5D%2C%20%5B48.207347999999996%2C%20-122.11708200000001%5D%2C%20%5B36.988609999999994%2C%20-121.4909%5D%2C%20%5B40.62673%2C%20-74.4381%5D%2C%20%5B41.5129%2C%20-73.68358%5D%2C%20%5B32.684379%2C%20-96.822906%5D%2C%20%5B32.83696%2C%20-96.97766%5D%2C%20%5B34.143351%2C%20-79.946136%5D%2C%20%5B38.874767%2C%20-77.28289699999999%5D%2C%20%5B33.811558000000005%2C%20-118.161341%5D%2C%20%5B37.30578%2C%20-76.68522%5D%2C%20%5B39.238101%2C%20-74.67626899999999%5D%2C%20%5B37.69039%2C%20-122.107468%5D%2C%20%5B41.72804%2C%20-72.61339%5D%2C%20%5B35.869937%2C%20-119.26816699999999%5D%2C%20%5B31.92257%2C%20-106.43999%5D%2C%20%5B37.75452%2C%20-121.14667%5D%2C%20%5B38.743789%2C%20-121.210706%5D%2C%20%5B40.70148%2C%20-73.52115%5D%2C%20%5B38.8%2C%20-77.166%5D%2C%20%5B28.356609999999996%2C%20-80.79244%5D%2C%20%5B41.119262%2C%20-97.598357%5D%2C%20%5B34.067640000000004%2C%20-117.60049%5D%2C%20%5B28.445675%2C%20-81.47449300000001%5D%2C%20%5B37.688340000000004%2C%20-122.06539199999999%5D%2C%20%5B40.230475%2C%20-74.753929%5D%2C%20%5B40.500325%2C%20-74.405953%5D%2C%20%5B25.642714%2C%20-80.334553%5D%2C%20%5B33.524093%2C%20-111.92581100000001%5D%2C%20%5B42.49465%2C%20-82.94634%5D%2C%20%5B42.944006%2C%20-83.726272%5D%2C%20%5B40.62355%2C%20-111.90328000000001%5D%2C%20%5B38.93496%2C%20-94.7292%5D%2C%20%5B44.876489%2C%20-122.9998%5D%2C%20%5B32.8739%2C%20-96.89827%5D%2C%20%5B47.915739%2C%20-122.071877%5D%2C%20%5B42.229597999999996%2C%20-83.613633%5D%2C%20%5B35.263777000000005%2C%20-118.633176%5D%2C%20%5B37.899152%2C%20-78.047379%5D%2C%20%5B37.69088%2C%20-122.08481100000002%5D%2C%20%5B44.64001%2C%20-93.29717%5D%2C%20%5B41.496337%2C%20-94.524725%5D%2C%20%5B39.79958%2C%20-86.02682%5D%2C%20%5B33.68829%2C%20-117.90121%5D%2C%20%5B30.41447%2C%20-91.10986%5D%2C%20%5B43.448867%2C%20-121.355699%5D%2C%20%5B35.616099%2C%20-119.65956899999999%5D%2C%20%5B25.526423%2C%20-80.38889300000001%5D%2C%20%5B34.17324%2C%20-118.53835%5D%2C%20%5B34.190615%2C%20-118.13503%5D%2C%20%5B34.033229999999996%2C%20-118.1446%5D%2C%20%5B47.641335%2C%20-94.148356%5D%2C%20%5B26.020754999999998%2C%20-80.14325%5D%2C%20%5B34.037058%2C%20-118.16186%5D%2C%20%5B34.14058%2C%20-117.32363400000001%5D%2C%20%5B37.489649%2C%20-77.4326%5D%2C%20%5B34.087475%2C%20-117.64571000000001%5D%2C%20%5B33.129021%2C%20-117.097967%5D%2C%20%5B40.341421000000004%2C%20-76.74811700000001%5D%2C%20%5B39.52518%2C%20-106.21529%5D%2C%20%5B38.883351%2C%20-77.228769%5D%2C%20%5B39.15851%2C%20-84.42130999999999%5D%2C%20%5B37.82904%2C%20-122.29373000000001%5D%2C%20%5B39.872813%2C%20-123.710698%5D%2C%20%5B44.75842%2C%20-93.24795%5D%2C%20%5B34.001394%2C%20-117.351998%5D%2C%20%5B36.8542%2C%20-76.29061999999999%5D%2C%20%5B28.539834000000003%2C%20-81.534134%5D%2C%20%5B27.971693%2C%20-82.396613%5D%2C%20%5B44.866644%2C%20-93.41974300000001%5D%2C%20%5B45.11003%2C%20-93.18826%5D%2C%20%5B36.04265%2C%20-86.78211%5D%2C%20%5B40.915346%2C%20-77.741444%5D%2C%20%5B40.01324%2C%20-75.21189%5D%2C%20%5B36.12977%2C%20-115.13831%5D%2C%20%5B33.197208%2C%20-117.125874%5D%2C%20%5B32.753479999999996%2C%20-96.80951999999999%5D%2C%20%5B40.85306%2C%20-73.96011%5D%2C%20%5B34.374818%2C%20-118.49662099999999%5D%2C%20%5B32.60876%2C%20-97.32094000000001%5D%2C%20%5B34.154144%2C%20-118.239144%5D%2C%20%5B35.274879999999996%2C%20-80.82446999999999%5D%2C%20%5B28.478157%2C%20-81.396625%5D%2C%20%5B37.396570000000004%2C%20-121.874545%5D%2C%20%5B38.698404%2C%20-120.823044%5D%2C%20%5B46.78127%2C%20-92.10283000000001%5D%2C%20%5B39.15794%2C%20-84.38119%5D%2C%20%5B34.012187%2C%20-118.418328%5D%2C%20%5B45.105979999999995%2C%20-122.92681999999999%5D%2C%20%5B34.01978%2C%20-118.17329%5D%2C%20%5B39.04857%2C%20-121.633401%5D%2C%20%5B36.508016%2C%20-119.250649%5D%2C%20%5B36.963432%2C%20-121.809467%5D%2C%20%5B40.462559999999996%2C%20-120.57036000000001%5D%2C%20%5B37.329688%2C%20-121.84201499999999%5D%2C%20%5B38.774989%2C%20-121.26128500000002%5D%2C%20%5B34.049535999999996%2C%20-118.184949%5D%2C%20%5B34.04365%2C%20-118.44373%5D%2C%20%5B36.808156%2C%20-119.87960600000001%5D%2C%20%5B37.082448%2C%20-121.59565900000001%5D%2C%20%5B35.759557%2C%20-78.004102%5D%2C%20%5B40.2548%2C%20-76.85478%5D%2C%20%5B40.39181%2C%20-80.01671%5D%2C%20%5B34.231996%2C%20-118.407027%5D%2C%20%5B34.140571%2C%20-80.913657%5D%2C%20%5B32.22119%2C%20-110.96706999999999%5D%2C%20%5B38.010459999999995%2C%20-122.230175%5D%2C%20%5B33.8229%2C%20-84.49195%5D%2C%20%5B37.131393%2C%20-79.970044%5D%2C%20%5B34.67018%2C%20-92.379988%5D%2C%20%5B37.456699%2C%20-119.90886499999999%5D%2C%20%5B37.550765000000006%2C%20-77.43795899999999%5D%2C%20%5B37.78992%2C%20-121.295%5D%2C%20%5B33.01161%2C%20-96.97853%5D%2C%20%5B41.451733000000004%2C%20-81.69055%5D%2C%20%5B30.440459999999998%2C%20-91.21484%5D%2C%20%5B42.00327%2C%20-88.10958000000001%5D%2C%20%5B35.21394%2C%20-80.83093000000001%5D%2C%20%5B37.750503%2C%20-121.13928999999999%5D%2C%20%5B39.261497999999996%2C%20-94.66064200000001%5D%2C%20%5B40.63035%2C%20-74.08885%5D%2C%20%5B37.49497%2C%20-122.22805%5D%2C%20%5B40.93335%2C%20-73.86932%5D%2C%20%5B27.563247999999998%2C%20-81.64518699999999%5D%2C%20%5B32.381896999999995%2C%20-93.80291%5D%2C%20%5B27.338778%2C%20-82.530998%5D%2C%20%5B37.478217%2C%20-122.41418999999999%5D%2C%20%5B38.544779%2C%20-121.47398000000001%5D%2C%20%5B32.964597999999995%2C%20-97.310565%5D%2C%20%5B42.192209000000005%2C%20-121.79874299999999%5D%2C%20%5B34.081632%2C%20-117.702817%5D%2C%20%5B40.932576%2C%20-73.861046%5D%2C%20%5B33.728719%2C%20-117.222935%5D%2C%20%5B43.916329%2C%20-117.006073%5D%2C%20%5B34.008842%2C%20-118.158573%5D%2C%20%5B28.289140000000003%2C%20-80.7428%5D%2C%20%5B43.58665%2C%20-120.02123%5D%2C%20%5B41.120470000000005%2C%20-73.32507%5D%2C%20%5B37.93136%2C%20-77.46757099999999%5D%2C%20%5B32.67584%2C%20-117.08442099999999%5D%2C%20%5B34.14536%2C%20-117.280718%5D%2C%20%5B38.72037%2C%20-94.4523%5D%2C%20%5B40.742596999999996%2C%20-73.770687%5D%2C%20%5B29.78527%2C%20-95.70766%5D%2C%20%5B33.024028%2C%20-117.0785%5D%2C%20%5B48.048689%2C%20-122.183599%5D%2C%20%5B36.194559999999996%2C%20-86.77615%5D%2C%20%5B42.86252%2C%20-73.77821999999999%5D%2C%20%5B35.08512%2C%20-85.07135%5D%2C%20%5B33.823370000000004%2C%20-84.23684%5D%2C%20%5B40.70327%2C%20-73.96016999999999%5D%2C%20%5B38.88257%2C%20-77.02229%5D%2C%20%5B42.925340000000006%2C%20-85.682%5D%2C%20%5B35.383016999999995%2C%20-118.97628300000001%5D%2C%20%5B38.72056%2C%20-90.312392%5D%2C%20%5B39.71199%2C%20-104.99938999999999%5D%2C%20%5B47.62676%2C%20-122.32893%5D%2C%20%5B38.529327%2C%20-121.470092%5D%2C%20%5B33.5664%2C%20-111.70823999999999%5D%2C%20%5B31.874390000000002%2C%20-106.44097%5D%2C%20%5B33.754836%2C%20-117.85195%5D%2C%20%5B38.576741%2C%20-77.326022%5D%2C%20%5B34.171243%2C%20-118.518511%5D%2C%20%5B36.561073%2C%20-121.555577%5D%2C%20%5B32.843691%2C%20-83.62402%5D%2C%20%5B34.0057%2C%20-117.96011000000001%5D%2C%20%5B41.87173%2C%20-87.75%5D%2C%20%5B46.21548%2C%20-123.86201000000001%5D%2C%20%5B35.23945%2C%20-80.85252%5D%2C%20%5B33.78183%2C%20-117.212818%5D%2C%20%5B34.221387%2C%20-118.475421%5D%2C%20%5B39.63005%2C%20-104.90502%5D%2C%20%5B32.478851%2C%20-93.937843%5D%2C%20%5B33.874210999999995%2C%20-117.66301899999999%5D%2C%20%5B34.140705%2C%20-118.47148600000001%5D%2C%20%5B41.730615%2C%20-72.660892%5D%2C%20%5B40.719590999999994%2C%20-73.833671%5D%2C%20%5B33.946709999999996%2C%20-117.38806000000001%5D%2C%20%5B37.9648%2C%20-122.32478%5D%2C%20%5B41.0795%2C%20-73.92190500000001%5D%2C%20%5B42.590784%2C%20-82.8574%5D%2C%20%5B33.817988%2C%20-84.252036%5D%2C%20%5B36.153002%2C%20-86.79599499999999%5D%2C%20%5B27.018413%2C%20-81.760778%5D%2C%20%5B41.65838%2C%20-86.89916%5D%2C%20%5B33.285790000000006%2C%20-111.83403999999999%5D%2C%20%5B45.019653999999996%2C%20-123.97588799999998%5D%2C%20%5B38.71107%2C%20-90.44811999999999%5D%2C%20%5B36.08591%2C%20-115.05498%5D%2C%20%5B33.458292%2C%20-80.709473%5D%2C%20%5B32.826966999999996%2C%20-97.312798%5D%2C%20%5B38.515587%2C%20-121.285551%5D%2C%20%5B45.37542%2C%20-122.75555%5D%2C%20%5B43.187824%2C%20-75.487371%5D%2C%20%5B40.042542%2C%20-76.390773%5D%2C%20%5B37.328643%2C%20-121.8703%5D%2C%20%5B33.663273%2C%20-117.79491599999999%5D%2C%20%5B40.163790000000006%2C%20-76.39513000000001%5D%2C%20%5B48.98472%2C%20-122.73331%5D%2C%20%5B47.4631%2C%20-122.21773%5D%2C%20%5B26.08248%2C%20-80.17299%5D%2C%20%5B33.943215%2C%20-118.29251299999999%5D%2C%20%5B39.924953%2C%20-86.267845%5D%2C%20%5B35.863124%2C%20-78.566648%5D%2C%20%5B43.846725%2C%20-95.933044%5D%2C%20%5B35.10405%2C%20-106.70975%5D%2C%20%5B25.599387%2C%20-80.356342%5D%2C%20%5B31.804049%2C%20-106.28529499999999%5D%2C%20%5B40.96056%2C%20-73.79268%5D%2C%20%5B34.152894%2C%20-118.279931%5D%2C%20%5B29.55645%2C%20-98.32429%5D%2C%20%5B34.042429999999996%2C%20-81.086702%5D%2C%20%5B39.075556%2C%20-94.598762%5D%2C%20%5B40.13284%2C%20-74.97509000000001%5D%2C%20%5B40.73985%2C%20-73.81833%5D%2C%20%5B37.68841%2C%20-122.46583400000002%5D%2C%20%5B35.34867%2C%20-80.84903%5D%2C%20%5B35.797492999999996%2C%20-78.487588%5D%2C%20%5B35.087388%2C%20-80.811976%5D%2C%20%5B40.074831%2C%20-75.159563%5D%2C%20%5B44.590109999999996%2C%20-93.29783%5D%2C%20%5B44.73237%2C%20-93.28327%5D%2C%20%5B33.968311%2C%20-117.84893100000001%5D%2C%20%5B43.126519%2C%20-75.42008%5D%2C%20%5B28.53094%2C%20-81.38601%5D%2C%20%5B34.87323%2C%20-82.417591%5D%2C%20%5B41.438773%2C%20-122.432379%5D%2C%20%5B39.78494%2C%20-84.18465%5D%2C%20%5B35.366009000000005%2C%20-80.82683399999999%5D%2C%20%5B33.946939%2C%20-118.368242%5D%2C%20%5B40.716163%2C%20-73.80304699999999%5D%2C%20%5B33.974747%2C%20-118.24766499999998%5D%2C%20%5B25.670941%2C%20-80.414505%5D%2C%20%5B46.220744%2C%20-112.120827%5D%2C%20%5B39.775496999999994%2C%20-104.863984%5D%2C%20%5B25.712548%2C%20-80.382427%5D%2C%20%5B44.24732%2C%20-93.28338000000001%5D%2C%20%5B41.90585%2C%20-87.958334%5D%2C%20%5B40.651140999999996%2C%20-77.239326%5D%2C%20%5B34.88078%2C%20-86.56789%5D%2C%20%5B27.937672999999997%2C%20-82.220213%5D%2C%20%5B32.670790000000004%2C%20-117.11145%5D%2C%20%5B40.765440000000005%2C%20-111.93914%5D%2C%20%5B40.714209999999994%2C%20-73.57324%5D%2C%20%5B39.74223%2C%20-75.22499%5D%2C%20%5B41.649570000000004%2C%20-93.62592%5D%2C%20%5B36.75%2C%20-119.86202%5D%2C%20%5B33.812973%2C%20-118.29768%5D%2C%20%5B25.629009%2C%20-80.337651%5D%2C%20%5B34.102740000000004%2C%20-118.1975%5D%2C%20%5B33.813546%2C%20-118.16738899999999%5D%2C%20%5B36.32724%2C%20-119.36766000000001%5D%2C%20%5B33.3865%2C%20-111.62135%5D%2C%20%5B34.5063%2C%20-117.57287%5D%2C%20%5B38.338184999999996%2C%20-122.493559%5D%2C%20%5B45.53968%2C%20-122.45665%5D%2C%20%5B35.265825%2C%20-119.31196000000001%5D%2C%20%5B33.008359999999996%2C%20-96.70798%5D%2C%20%5B35.098009999999995%2C%20-85.32776%5D%2C%20%5B34.072063%2C%20-118.07308%5D%2C%20%5B32.489568%2C%20-93.772426%5D%2C%20%5B38.65258%2C%20-122.59978999999998%5D%2C%20%5B39.719041%2C%20-121.80403500000001%5D%2C%20%5B40.4726%2C%20-74.43021%5D%2C%20%5B27.999478000000003%2C%20-82.336845%5D%2C%20%5B33.97465%2C%20-118.28111899999999%5D%2C%20%5B32.830782%2C%20-96.761534%5D%2C%20%5B32.8227%2C%20-97.39335%5D%2C%20%5B30.267584000000003%2C%20-97.733882%5D%2C%20%5B38.880214%2C%20-77.238095%5D%2C%20%5B46.368014%2C%20-92.79643399999999%5D%2C%20%5B32.442015000000005%2C%20-93.755854%5D%2C%20%5B40.84707%2C%20-73.92560999999999%5D%2C%20%5B26.081974%2C%20-80.168867%5D%2C%20%5B43.207297%2C%20-77.679137%5D%2C%20%5B36.684872999999996%2C%20-119.74959199999999%5D%2C%20%5B32.770179999999996%2C%20-117.13856000000001%5D%2C%20%5B38.397639%2C%20-77.43549399999999%5D%2C%20%5B35.753728%2C%20-78.652914%5D%2C%20%5B38.870909999999995%2C%20-76.98875%5D%2C%20%5B38.544779%2C%20-121.47398000000001%5D%2C%20%5B35.74881%2C%20-78.64886%5D%2C%20%5B39.42715%2C%20-121.605079%5D%2C%20%5B45.695217%2C%20-121.33821100000002%5D%2C%20%5B40.884288%2C%20-111.89678%5D%2C%20%5B33.839596%2C%20-81.103687%5D%2C%20%5B40.784908%2C%20-72.97540699999999%5D%2C%20%5B34.03038%2C%20-117.68486000000001%5D%2C%20%5B44.855025%2C%20-93.29804%5D%2C%20%5B37.64884%2C%20-122.096842%5D%2C%20%5B34.36626%2C%20-82.277323%5D%2C%20%5B33.87066%2C%20-118.10028999999999%5D%2C%20%5B37.83583%2C%20-122.48469399999999%5D%2C%20%5B37.783543%2C%20-121.308856%5D%2C%20%5B33.46157%2C%20-112.08808%5D%2C%20%5B33.872033%2C%20-117.665221%5D%2C%20%5B34.081664%2C%20-117.704209%5D%2C%20%5B40.10797%2C%20-83.11928%5D%2C%20%5B32.472590999999994%2C%20-93.754936%5D%2C%20%5B39.86867%2C%20-86.12224%5D%2C%20%5B42.44812%2C%20-88.11111%5D%2C%20%5B30.377024%2C%20-97.67618%5D%2C%20%5B44.97185%2C%20-93.28759000000001%5D%2C%20%5B38.779309999999995%2C%20-90.364995%5D%2C%20%5B43.104409999999994%2C%20-87.91816%5D%2C%20%5B35.139829999999996%2C%20-118.45078000000001%5D%2C%20%5B47.33146%2C%20-122.24472%5D%2C%20%5B44.489751%2C%20-123.06181000000001%5D%2C%20%5B42.78477%2C%20-73.65262%5D%2C%20%5B28.540892%2C%20-81.285885%5D%2C%20%5B39.356986%2C%20-76.484466%5D%2C%20%5B41.448702000000004%2C%20-73.815853%5D%2C%20%5B38.749590000000005%2C%20-76.8795%5D%2C%20%5B33.663070000000005%2C%20-117.7495%5D%2C%20%5B35.5346%2C%20-82.60135%5D%2C%20%5B34.368119%2C%20-79.294051%5D%2C%20%5B40.83263%2C%20-73.85866999999999%5D%2C%20%5B38.990759000000004%2C%20-76.83610300000001%5D%2C%20%5B44.91148%2C%20-117.8194%5D%2C%20%5B40.92935%2C%20-74.59014%5D%2C%20%5B42.76059%2C%20-73.75733000000001%5D%2C%20%5B39.905896000000006%2C%20-75.13359799999999%5D%2C%20%5B34.05125%2C%20-118.00588%5D%2C%20%5B32.77742%2C%20-96.78339%5D%2C%20%5B26.178632999999998%2C%20-80.15446999999999%5D%2C%20%5B42.15422%2C%20-88.13542%5D%2C%20%5B34.151676%2C%20-118.13938700000001%5D%2C%20%5B37.616444%2C%20-122.15718000000001%5D%2C%20%5B29.951590000000003%2C%20-95.41762%5D%2C%20%5B39.96327%2C%20-76.73039%5D%2C%20%5B39.898379999999996%2C%20-86.05184%5D%2C%20%5B39.094516%2C%20-84.522317%5D%2C%20%5B34.422987%2C%20-119.658676%5D%2C%20%5B33.93759%2C%20-117.40198000000001%5D%2C%20%5B34.065458%2C%20-117.500674%5D%2C%20%5B32.751252%2C%20-96.809899%5D%2C%20%5B37.51732%2C%20-77.35011999999999%5D%2C%20%5B38.342385%2C%20-122.32573799999999%5D%2C%20%5B42.566879%2C%20-87.88747%5D%2C%20%5B30.173445%2C%20-97.63992900000001%5D%2C%20%5B28.687070000000002%2C%20-82.55258%5D%2C%20%5B47.59943%2C%20-122.18033%5D%2C%20%5B40.47599%2C%20-74.40666999999999%5D%2C%20%5B43.03223%2C%20-87.95458%5D%2C%20%5B32.85266%2C%20-117.1814%5D%2C%20%5B36.569078999999995%2C%20-119.790935%5D%2C%20%5B38.640105%2C%20-121.271499%5D%2C%20%5B32.751583000000004%2C%20-97.31988%5D%2C%20%5B38.664237%2C%20-121.24426499999998%5D%2C%20%5B40.603589%2C%20-74.054115%5D%2C%20%5B35.883953999999996%2C%20-121.45678600000001%5D%2C%20%5B34.173157%2C%20-118.535976%5D%2C%20%5B33.62547%2C%20-117.60059%5D%2C%20%5B44.399429999999995%2C%20-95.47246%5D%2C%20%5B37.17026%2C%20-121.9898%5D%2C%20%5B39.930178999999995%2C%20-86.027231%5D%2C%20%5B28.03782%2C%20-82.45501%5D%2C%20%5B38.717911%2C%20-77.872967%5D%2C%20%5B47.647374%2C%20-122.13566999999999%5D%2C%20%5B33.872903%2C%20-118.34236399999999%5D%2C%20%5B35.094118%2C%20-90.026239%5D%2C%20%5B42.892641%2C%20-85.506879%5D%2C%20%5B36.166286%2C%20-86.776909%5D%2C%20%5B45.79776%2C%20-123.96678600000001%5D%2C%20%5B35.17595%2C%20-80.79824%5D%2C%20%5B34.997065%2C%20-85.262712%5D%2C%20%5B39.632220000000004%2C%20-104.9048%5D%2C%20%5B32.49317%2C%20-93.767942%5D%2C%20%5B45.139084999999994%2C%20-122.89263400000002%5D%2C%20%5B37.567912%2C%20-122.26853700000001%5D%2C%20%5B43.15565%2C%20-77.59671999999999%5D%2C%20%5B35.388632%2C%20-118.980377%5D%2C%20%5B44.86345%2C%20-93.59716999999999%5D%2C%20%5B45.53411%2C%20-122.564536%5D%2C%20%5B27.446690999999998%2C%20-82.466453%5D%2C%20%5B38.81521%2C%20-104.82453000000001%5D%2C%20%5B47.821040999999994%2C%20-122.24436599999999%5D%2C%20%5B32.90902%2C%20-117.116478%5D%2C%20%5B39.564159000000004%2C%20-104.909396%5D%2C%20%5B33.785571999999995%2C%20-118.09261599999999%5D%2C%20%5B37.617133%2C%20-76.57010799999999%5D%2C%20%5B33.982345%2C%20-118.295855%5D%2C%20%5B40.67548%2C%20-74.19878%5D%2C%20%5B32.770043%2C%20-117.20648600000001%5D%2C%20%5B44.93978%2C%20-93.07544%5D%2C%20%5B32.337969%2C%20-93.895427%5D%2C%20%5B32.318682%2C%20-90.158885%5D%2C%20%5B37.447590000000005%2C%20-122.12151000000001%5D%2C%20%5B37.41917%2C%20-122.0902%5D%2C%20%5B38.903863%2C%20-78.487977%5D%2C%20%5B39.02247%2C%20-94.78532%5D%2C%20%5B28.394494%2C%20-81.32637%5D%2C%20%5B39.9005%2C%20-75.11219%5D%2C%20%5B30.363274%2C%20-91.12649300000001%5D%2C%20%5B45.791097%2C%20-122.86965%5D%2C%20%5B30.269824%2C%20-81.767135%5D%2C%20%5B27.138379999999998%2C%20-82.45804%5D%2C%20%5B28.54202%2C%20-81.38176999999999%5D%2C%20%5B34.859041999999995%2C%20-82.674385%5D%2C%20%5B25.812179999999998%2C%20-80.20233%5D%2C%20%5B41.82031%2C%20-88.47287%5D%2C%20%5B40.63475%2C%20-111.897%5D%2C%20%5B40.725909%2C%20-111.939%5D%2C%20%5B38.510426%2C%20-121.451048%5D%2C%20%5B34.137046000000005%2C%20-81.336402%5D%2C%20%5B36.061302000000005%2C%20-79.767812%5D%2C%20%5B41.78335%2C%20-87.63083%5D%2C%20%5B39.201370000000004%2C%20-84.52091%5D%2C%20%5B44.863498%2C%20-93.35016%5D%2C%20%5B37.619890999999996%2C%20-122.42541000000001%5D%2C%20%5B30.214078999999998%2C%20-97.830261%5D%2C%20%5B33.538375%2C%20-112.04111599999999%5D%2C%20%5B35.06152%2C%20-80.78357%5D%2C%20%5B39.042640000000006%2C%20-76.61521%5D%2C%20%5B44.943534%2C%20-93.274837%5D%2C%20%5B36.437692%2C%20-121.34638600000001%5D%2C%20%5B32.888828000000004%2C%20-80.85314100000001%5D%2C%20%5B37.07674%2C%20-121.98423999999999%5D%2C%20%5B33.37773%2C%20-112.0819%5D%2C%20%5B41.33789%2C%20-82.11774%5D%2C%20%5B41.769859999999994%2C%20-72.67576%5D%2C%20%5B33.621879%2C%20-117.71436000000001%5D%2C%20%5B29.71153%2C%20-95.20625%5D%2C%20%5B25.86639%2C%20-80.20825%5D%2C%20%5B37.565965000000006%2C%20-121.898026%5D%2C%20%5B42.401802%2C%20-122.93522%5D%2C%20%5B35.258044%2C%20-80.79474499999999%5D%2C%20%5B32.85777%2C%20-96.55266999999999%5D%2C%20%5B38.2588%2C%20-85.7574%5D%2C%20%5B41.94678%2C%20-88.20805%5D%2C%20%5B37.765283000000004%2C%20-122.404835%5D%2C%20%5B40.71732%2C%20-73.8312%5D%2C%20%5B39.252686%2C%20-76.668607%5D%2C%20%5B41.653965%2C%20-72.67233900000001%5D%2C%20%5B40.089662%2C%20-75.382869%5D%2C%20%5B37.701113%2C%20-78.31111899999999%5D%2C%20%5B40.74988%2C%20-73.93782%5D%2C%20%5B38.717929999999996%2C%20-90.44676%5D%2C%20%5B38.541758%2C%20-77.347002%5D%2C%20%5B40.30922%2C%20-104.98087%5D%2C%20%5B37.83312%2C%20-122.294587%5D%2C%20%5B38.76088%2C%20-111.45653%5D%2C%20%5B40.09057%2C%20-75.41372%5D%2C%20%5B27.81423%2C%20-82.78305%5D%2C%20%5B34.0031%2C%20-117.35283999999999%5D%2C%20%5B43.1977%2C%20-89.32443%5D%2C%20%5B34.15667%2C%20-118.41753%5D%2C%20%5B39.046859999999995%2C%20-76.008%5D%2C%20%5B45.33351%2C%20-122.76955%5D%2C%20%5B33.687203000000004%2C%20-117.87219499999999%5D%2C%20%5B33.853737%2C%20-117.914746%5D%2C%20%5B40.79467%2C%20-74.14224%5D%2C%20%5B45.192801%2C%20-121.68921100000001%5D%2C%20%5B34.087394%2C%20-117.662948%5D%2C%20%5B34.56692%2C%20-92.60013000000001%5D%2C%20%5B32.709734000000005%2C%20-117.11950300000001%5D%2C%20%5B41.36708%2C%20-89.21462%5D%2C%20%5B35.138040000000004%2C%20-89.86899%5D%2C%20%5B35.996575%2C%20-86.690172%5D%2C%20%5B41.410785%2C%20-73.45326999999999%5D%2C%20%5B33.945236%2C%20-118.300288%5D%2C%20%5B37.718%2C%20-121.70133999999999%5D%2C%20%5B44.62509%2C%20-121.12957%5D%2C%20%5B40.619834000000004%2C%20-111.93878000000001%5D%2C%20%5B33.87438%2C%20-118.18618000000001%5D%2C%20%5B40.712509999999995%2C%20-74.316662%5D%2C%20%5B33.846507%2C%20-81.208721%5D%2C%20%5B33.913255%2C%20-118.13759499999999%5D%2C%20%5B39.67009%2C%20-104.86508%5D%2C%20%5B25.59956%2C%20-80.31655%5D%2C%20%5B33.44112%2C%20-83.99913000000001%5D%2C%20%5B41.301747%2C%20-124.047776%5D%2C%20%5B38.55382%2C%20-121.47402%5D%2C%20%5B37.617289%2C%20-77.6631%5D%2C%20%5B45.515305%2C%20-123.618597%5D%2C%20%5B43.632059000000005%2C%20-70.344161%5D%2C%20%5B34.75587%2C%20-82.26831%5D%2C%20%5B32.74938%2C%20-96.80938%5D%2C%20%5B44.595382%2C%20-71.19771300000001%5D%2C%20%5B33.61717%2C%20-84.39841%5D%2C%20%5B32.81145%2C%20-96.79201%5D%2C%20%5B28.493222999999997%2C%20-81.432949%5D%2C%20%5B33.916414%2C%20-117.287489%5D%2C%20%5B40.77298%2C%20-89.74944%5D%2C%20%5B42.93119%2C%20-73.47603000000001%5D%2C%20%5B32.980476%2C%20-93.99681899999999%5D%2C%20%5B25.823860999999997%2C%20-80.242827%5D%2C%20%5B33.530976%2C%20-112.05554%5D%2C%20%5B40.66207%2C%20-111.95246000000002%5D%2C%20%5B44.66323%2C%20-93.13664%5D%2C%20%5B41.75649%2C%20-72.649229%5D%2C%20%5B34.261911%2C%20-118.332094%5D%2C%20%5B29.87957%2C%20-95.56912%5D%2C%20%5B27.461689%2C%20-82.650052%5D%2C%20%5B34.035354%2C%20-118.328901%5D%2C%20%5B32.732527000000005%2C%20-117.154817%5D%2C%20%5B38.11119%2C%20-78.509439%5D%2C%20%5B27.786040000000003%2C%20-82.784509%5D%2C%20%5B36.01559%2C%20-86.74061%5D%2C%20%5B34.047885%2C%20-118.266682%5D%2C%20%5B33.045388%2C%20-117.286455%5D%2C%20%5B45.383019%2C%20-92.703468%5D%2C%20%5B29.951878999999998%2C%20-90.08491500000001%5D%2C%20%5B31.420109999999998%2C%20-83.50662%5D%2C%20%5B40.10759%2C%20-75.11346%5D%2C%20%5B34.172117%2C%20-118.46771000000001%5D%2C%20%5B27.900309999999998%2C%20-82.40194%5D%2C%20%5B40.505876%2C%20-78.409177%5D%2C%20%5B36.778636999999996%2C%20-120.060254%5D%2C%20%5B34.024839%2C%20-117.91763600000002%5D%2C%20%5B34.390771%2C%20-117.576343%5D%2C%20%5B37.741912%2C%20-121.57449199999999%5D%2C%20%5B39.09612%2C%20-94.56048%5D%2C%20%5B37.822981%2C%20-121.992081%5D%2C%20%5B35.798527%2C%20-78.561598%5D%2C%20%5B38.485569%2C%20-77.391552%5D%2C%20%5B34.0693%2C%20-118.463462%5D%2C%20%5B33.886977%2C%20-118.28541799999999%5D%2C%20%5B43.124962%2C%20-75.323585%5D%2C%20%5B44.943669%2C%20-122.99042%5D%2C%20%5B40.83171%2C%20-111.91585%5D%2C%20%5B45.50257%2C%20-122.56516%5D%2C%20%5B41.81712%2C%20-88.07167%5D%2C%20%5B41.800996000000005%2C%20-87.93925300000001%5D%2C%20%5B27.695441%2C%20-82.678934%5D%2C%20%5B44.39305%2C%20-94.41003%5D%2C%20%5B30.29099%2C%20-81.52195%5D%2C%20%5B39.14049%2C%20-84.4511%5D%2C%20%5B42.308853000000006%2C%20-122.84574099999999%5D%2C%20%5B32.762122999999995%2C%20-117.20478100000001%5D%2C%20%5B45.8038%2C%20-119.38355%5D%2C%20%5B34.024634000000006%2C%20-117.756964%5D%2C%20%5B42.515057%2C%20-78.733622%5D%2C%20%5B39.163156%2C%20-120.165531%5D%2C%20%5B39.383429%2C%20-76.498971%5D%2C%20%5B27.546259999999997%2C%20-82.505402%5D%2C%20%5B34.523354%2C%20-82.725044%5D%2C%20%5B33.856856%2C%20-118.02874299999999%5D%2C%20%5B39.802608%2C%20-86.07858900000001%5D%2C%20%5B42.215065%2C%20-124.37401499999999%5D%2C%20%5B38.6293%2C%20-90.32311%5D%2C%20%5B38.042707%2C%20-122.2415%5D%2C%20%5B38.617734999999996%2C%20-121.382879%5D%2C%20%5B38.21434%2C%20-122.13793999999999%5D%2C%20%5B32.84077%2C%20-117.12108%5D%2C%20%5B47.46733%2C%20-122.23140900000001%5D%2C%20%5B34.012219%2C%20-118.418573%5D%2C%20%5B35.792096%2C%20-78.681917%5D%2C%20%5B33.768556%2C%20-117.867567%5D%2C%20%5B38.343268%2C%20-121.335751%5D%2C%20%5B26.019798%2C%20-80.34650400000001%5D%2C%20%5B37.476251%2C%20-121.932551%5D%2C%20%5B38.832503%2C%20-77.105194%5D%2C%20%5B33.854688%2C%20-117.79026499999999%5D%2C%20%5B39.76021%2C%20-105.00605%5D%2C%20%5B28.045601%2C%20-82.35217%5D%2C%20%5B39.487590999999995%2C%20-76.863285%5D%2C%20%5B38.567687%2C%20-119.50806399999999%5D%2C%20%5B37.992649%2C%20-122.12140500000001%5D%2C%20%5B45.53224%2C%20-122.84244%5D%2C%20%5B41.923390000000005%2C%20-88.120559%5D%2C%20%5B38.91468%2C%20-121.54813500000002%5D%2C%20%5B38.92465%2C%20-77.21509%5D%2C%20%5B38.87297%2C%20-77.00896%5D%2C%20%5B32.74456%2C%20-97.32726%5D%2C%20%5B29.769609999999997%2C%20-95.26541%5D%2C%20%5B36.183473%2C%20-86.749024%5D%2C%20%5B30.04363%2C%20-89.96506%5D%2C%20%5B45.5284%2C%20-122.65357%5D%2C%20%5B33.746728999999995%2C%20-117.101672%5D%2C%20%5B34.137171%2C%20-118.36188100000001%5D%2C%20%5B42.94792%2C%20-123.31311000000001%5D%2C%20%5B33.48512%2C%20-112.264%5D%2C%20%5B28.04859%2C%20-82.73866%5D%2C%20%5B37.64719%2C%20-121.01803999999998%5D%2C%20%5B34.96539%2C%20-82.23499%5D%2C%20%5B41.025878000000006%2C%20-76.083337%5D%2C%20%5B30.431659999999997%2C%20-91.08059%5D%2C%20%5B35.7777%2C%20-78.62241%5D%2C%20%5B38.658229999999996%2C%20-77.24972%5D%2C%20%5B36.98565%2C%20-121.98166%5D%2C%20%5B33.524512%2C%20-117.160174%5D%2C%20%5B41.23551%2C%20-73.04581%5D%2C%20%5B43.626512%2C%20-116.35462199999999%5D%2C%20%5B37.687405%2C%20-122.46041399999999%5D%2C%20%5B40.755614%2C%20-73.82839799999999%5D%2C%20%5B41.792343%2C%20-87.9471%5D%2C%20%5B36.7748%2C%20-119.74908%5D%2C%20%5B32.133732%2C%20-111.00211399999999%5D%2C%20%5B33.912981%2C%20-118.127242%5D%2C%20%5B45.06967%2C%20-93.2859%5D%2C%20%5B41.201595000000005%2C%20-111.94868000000001%5D%2C%20%5B34.155968%2C%20-118.254979%5D%2C%20%5B41.76634%2C%20-81.18099000000001%5D%2C%20%5B37.932990000000004%2C%20-77.468%5D%2C%20%5B39.82748%2C%20-86.03294%5D%2C%20%5B35.247927000000004%2C%20-80.84608100000001%5D%2C%20%5B29.45243%2C%20-98.41784%5D%2C%20%5B28.534744%2C%20-81.38483000000001%5D%2C%20%5B26.042547%2C%20-80.16301800000001%5D%2C%20%5B39.956806%2C%20-76.735605%5D%2C%20%5B44.383959000000004%2C%20-123.06147%5D%2C%20%5B33.461220000000004%2C%20-112.28853000000001%5D%2C%20%5B33.99643%2C%20-117.36486000000001%5D%2C%20%5B32.92409%2C%20-96.77748000000001%5D%2C%20%5B37.707596%2C%20-113.06240600000001%5D%2C%20%5B44.06991%2C%20-70.176271%5D%2C%20%5B41.42483%2C%20-81.55911%5D%2C%20%5B37.253743%2C%20-121.94613400000001%5D%2C%20%5B25.812179999999998%2C%20-80.20233%5D%2C%20%5B35.21017%2C%20-80.90816%5D%2C%20%5B39.180754%2C%20-121.04724499999999%5D%2C%20%5B45.064640000000004%2C%20-93.20666999999999%5D%2C%20%5B35.252386%2C%20-118.91436200000001%5D%2C%20%5B34.679479%2C%20-92.332534%5D%2C%20%5B35.122461%2C%20-80.854561%5D%2C%20%5B26.00348%2C%20-80.21613%5D%2C%20%5B38.08225%2C%20-122.54275%5D%2C%20%5B44.77%2C%20-123.04471000000001%5D%2C%20%5B28.56829%2C%20-81.26472%5D%2C%20%5B39.09527%2C%20-121.550946%5D%2C%20%5B32.9252%2C%20-96.78806999999999%5D%2C%20%5B34.164122%2C%20-117.892624%5D%2C%20%5B45.83062%2C%20-119.78518999999999%5D%2C%20%5B33.85244%2C%20-117.8758%5D%2C%20%5B25.811358%2C%20-80.24039499999999%5D%2C%20%5B37.535556%2C%20-122.075%5D%2C%20%5B37.316925%2C%20-121.92378000000001%5D%2C%20%5B47.23088%2C%20-122.44221%5D%2C%20%5B39.973545%2C%20-76.687626%5D%2C%20%5B36.760371%2C%20-76.27205699999999%5D%2C%20%5B25.705678%2C%20-80.287789%5D%2C%20%5B33.875766999999996%2C%20-118.11728899999999%5D%2C%20%5B38.278384%2C%20-122.27393300000001%5D%2C%20%5B35.292623999999996%2C%20-84.813133%5D%2C%20%5B33.327459999999995%2C%20-84.77436999999999%5D%2C%20%5B34.19146%2C%20-117.36105%5D%2C%20%5B47.64455%2C%20-116.71363999999998%5D%2C%20%5B33.588378000000006%2C%20-84.383425%5D%2C%20%5B45.899370000000005%2C%20-123.6826%5D%2C%20%5B34.331579999999995%2C%20-118.50438999999999%5D%2C%20%5B33.820692%2C%20-84.166656%5D%2C%20%5B39.942972999999995%2C%20-75.113385%5D%2C%20%5B27.33778%2C%20-82.46370999999999%5D%2C%20%5B28.981131%2C%20-81.205962%5D%2C%20%5B34.067656%2C%20-117.58434399999999%5D%2C%20%5B30.08555%2C%20-90.43162%5D%2C%20%5B33.926860999999995%2C%20-118.011971%5D%2C%20%5B45.053653999999995%2C%20-93.05772900000001%5D%2C%20%5B28.961533000000003%2C%20-81.966655%5D%2C%20%5B34.030393%2C%20-117.619599%5D%2C%20%5B29.592111%2C%20-95.13821999999999%5D%2C%20%5B38.701626%2C%20-90.266901%5D%2C%20%5B36.88125%2C%20-80.8935%5D%2C%20%5B35.612229%2C%20-91.36925600000001%5D%2C%20%5B37.701678%2C%20-122.030247%5D%2C%20%5B32.849027%2C%20-96.683149%5D%2C%20%5B36.2087%2C%20-80.30113%5D%2C%20%5B44.965352%2C%20-93.288478%5D%2C%20%5B44.03049%2C%20-92.48817%5D%2C%20%5B43.6663%2C%20-94.31293000000001%5D%2C%20%5B37.710344%2C%20-122.46535800000001%5D%2C%20%5B37.64931%2C%20-77.5472%5D%2C%20%5B29.69387%2C%20-95.05821%5D%2C%20%5B45.541509999999995%2C%20-122.29536999999999%5D%2C%20%5B42.742509000000005%2C%20-84.509791%5D%2C%20%5B36.871555%2C%20-76.43336500000001%5D%2C%20%5B45.034859999999995%2C%20-93.086801%5D%2C%20%5B40.335606%2C%20-75.939699%5D%2C%20%5B35.9664%2C%20-79.57807%5D%2C%20%5B33.936347999999995%2C%20-80.969669%5D%2C%20%5B35.728159999999995%2C%20-81.54956%5D%2C%20%5B43.028859999999995%2C%20-77.96961999999999%5D%2C%20%5B39.745870000000004%2C%20-75.55883%5D%2C%20%5B25.899570999999998%2C%20-80.321334%5D%2C%20%5B45.71465%2C%20-122.64471%5D%2C%20%5B39.566109999999995%2C%20-107.50283%5D%2C%20%5B39.566237%2C%20-76.667819%5D%2C%20%5B30.395862%2C%20-91.15789699999999%5D%2C%20%5B39.662187%2C%20-78.958066%5D%2C%20%5B37.52%2C%20-121.98297%5D%2C%20%5B34.033485999999996%2C%20-117.55006599999999%5D%2C%20%5B33.986173%2C%20-118.397737%5D%2C%20%5B38.468944%2C%20-77.40571%5D%2C%20%5B33.925158%2C%20-118.210103%5D%2C%20%5B41.946870000000004%2C%20-87.88458%5D%2C%20%5B48.338603000000006%2C%20-114.334579%5D%2C%20%5B42.533359999999995%2C%20-76.87701%5D%2C%20%5B27.922789%2C%20-82.368698%5D%2C%20%5B39.7868%2C%20-84.21173%5D%2C%20%5B29.548679999999997%2C%20-95.7424%5D%2C%20%5B40.76962%2C%20-74.02584%5D%2C%20%5B30.433190000000003%2C%20-83.46099%5D%2C%20%5B35.03098%2C%20-82.42321%5D%2C%20%5B43.036041%2C%20-124.074256%5D%2C%20%5B30.43895%2C%20-91.186593%5D%2C%20%5B33.905165999999994%2C%20-84.277739%5D%2C%20%5B33.015475%2C%20-80.239139%5D%2C%20%5B41.28953%2C%20-73.92959%5D%2C%20%5B40.47461%2C%20-75.4563%5D%2C%20%5B38.9547%2C%20-94.73422%5D%2C%20%5B34.161460999999996%2C%20-117.46538000000001%5D%2C%20%5B39.772952000000004%2C%20-84.18776899999999%5D%2C%20%5B44.774619%2C%20-93.034672%5D%2C%20%5B33.88394%2C%20-117.52528999999998%5D%2C%20%5B28.05629%2C%20-82.73898%5D%2C%20%5B34.10326%2C%20-118.81266000000001%5D%2C%20%5B38.680454%2C%20-121.19286000000001%5D%2C%20%5B38.944373%2C%20-77.026165%5D%2C%20%5B25.78582%2C%20-80.25215%5D%2C%20%5B37.079661%2C%20-119.334456%5D%2C%20%5B42.10625%2C%20-79.37042%5D%2C%20%5B33.58806%2C%20-84.50859%5D%2C%20%5B45.39141%2C%20-122.61295%5D%2C%20%5B34.879382%2C%20-117.51023700000002%5D%2C%20%5B36.144686%2C%20-86.777004%5D%2C%20%5B41.160761%2C%20-73.836761%5D%2C%20%5B37.289364%2C%20-121.94986000000002%5D%2C%20%5B41.56821%2C%20-87.30626%5D%2C%20%5B38.929331%2C%20-78.481324%5D%2C%20%5B29.690084999999996%2C%20-82.33909%5D%2C%20%5B41.12281%2C%20-73.33593%5D%2C%20%5B37.64015%2C%20-122.0904%5D%2C%20%5B25.671985999999997%2C%20-80.38261899999999%5D%2C%20%5B29.716833%2C%20-95.55798%5D%2C%20%5B39.8725%2C%20-75.03777%5D%2C%20%5B34.063159999999996%2C%20-117.397926%5D%2C%20%5B33.458723%2C%20-117.656031%5D%2C%20%5B38.77776%2C%20-77.47881%5D%2C%20%5B35.887673%2C%20-78.81806800000001%5D%2C%20%5B35.144206%2C%20-80.92853199999999%5D%2C%20%5B33.94178%2C%20-117.27361%5D%2C%20%5B39.78494%2C%20-84.18465%5D%5D%2C%0A%20%20%20%20%20%20%20%20%20%20%20%20%20%20%20%20%7B%0A%20%20%20%20%20%20%20%20%20%20%20%20%20%20%20%20%20%20%20%20minOpacity%3A%200.5%2C%0A%20%20%20%20%20%20%20%20%20%20%20%20%20%20%20%20%20%20%20%20maxZoom%3A%2018%2C%0A%20%20%20%20%20%20%20%20%20%20%20%20%20%20%20%20%20%20%20%20max%3A%201.0%2C%0A%20%20%20%20%20%20%20%20%20%20%20%20%20%20%20%20%20%20%20%20radius%3A%2025%2C%0A%20%20%20%20%20%20%20%20%20%20%20%20%20%20%20%20%20%20%20%20blur%3A%2015%2C%0A%20%20%20%20%20%20%20%20%20%20%20%20%20%20%20%20%20%20%20%20gradient%3A%20null%0A%20%20%20%20%20%20%20%20%20%20%20%20%20%20%20%20%20%20%20%20%7D%29%0A%20%20%20%20%20%20%20%20%20%20%20%20%20%20%20%20.addTo%28map_0bd62aa26bc6427e88c5c404de987557%29%3B%0A%20%20%20%20%20%20%20%20%0A%3C/script%3E onload=\"this.contentDocument.open();this.contentDocument.write(    decodeURIComponent(this.getAttribute('data-html')));this.contentDocument.close();\" allowfullscreen webkitallowfullscreen mozallowfullscreen></iframe></div></div>"
            ],
            "text/plain": [
              "<folium.folium.Map at 0x7f65ab16db10>"
            ]
          },
          "metadata": {},
          "execution_count": 109
        }
      ]
    },
    {
      "cell_type": "code",
      "metadata": {
        "id": "iZ4Cs4SGDrtF"
      },
      "source": [
        ""
      ],
      "execution_count": null,
      "outputs": []
    },
    {
      "cell_type": "code",
      "metadata": {
        "id": "qyibIvK-Drq6"
      },
      "source": [
        ""
      ],
      "execution_count": null,
      "outputs": []
    },
    {
      "cell_type": "markdown",
      "metadata": {
        "id": "yDvM9ujoOQAD"
      },
      "source": [
        "## Summary And Conclusion\n",
        "\n",
        "Insights\n",
        " * No data from New York\n",
        " * The number of accidents per city decreases / increases exponentially.\n",
        " * Less than 5% of cities have more than 1000 yearly accidents.\n",
        " * Over 1200 cities have reported just one accident (need to investigate)"
      ]
    },
    {
      "cell_type": "code",
      "metadata": {
        "id": "uptS1goOOVhZ"
      },
      "source": [
        ""
      ],
      "execution_count": null,
      "outputs": []
    }
  ]
}